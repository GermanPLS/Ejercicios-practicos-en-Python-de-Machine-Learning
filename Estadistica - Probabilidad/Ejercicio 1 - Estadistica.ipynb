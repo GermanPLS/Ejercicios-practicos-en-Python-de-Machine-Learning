{
  "cells": [
    {
      "cell_type": "markdown",
      "metadata": {
        "id": "9uWmV_kKBfgc"
      },
      "source": [
        "# Estadística\n",
        "\n",
        "El objetivo del siguiente notebook es, además de repasar conceptos de estadística, que presten atención a cómo se calculan algunas cosas con Numpy y se hacen gráficos con Matplotlib (¿qué?¿qué es eso? Lo veremos más adelante. Por ahora, solamente tienen que instalar la librería Matplotlib y correr las celdas).\n"
      ]
    },
    {
      "cell_type": "markdown",
      "metadata": {
        "tags": [],
        "id": "GjcJ78lhBfgd"
      },
      "source": [
        "## Distribuciones de probabilidad\n",
        "\n",
        "El concepto de distribución de probabilidad es un concepto central en probabilidad y estadística.\n",
        "\n",
        "Entonces, las distribuciones de probabilidad describe cómo se distribuyen las probabilidades de los diferentes resultados posibles en un experimento aleatorio.\n",
        "\n",
        "Comencemos por un ejemplo: un dado de seis caras. La probabilidad de que al tirar el dado *salga* una cara es $1/6$. Si graficamos la probabilidad para cada resultado posible de tirar un dado, obtendríamos un gráfico como el siguiente:"
      ]
    },
    {
      "cell_type": "code",
      "execution_count": null,
      "metadata": {
        "tags": [],
        "id": "TzZJHwGIBfgd"
      },
      "outputs": [],
      "source": [
        "import numpy as np                  # Libreria para cálculos matemáticos y manejo de arreglos.\n",
        "\n",
        "import matplotlib.pyplot as plt     # Libreria que usa para crear gráficos y visualizaciones.\n"
      ]
    },
    {
      "cell_type": "code",
      "execution_count": null,
      "metadata": {
        "tags": [],
        "id": "_AJDE5inBfge",
        "outputId": "66490dcc-9f0b-49d4-afcb-baa0ba721cc7"
      },
      "outputs": [
        {
          "data": {
            "image/png": "[encoded data removed]",
            "text/plain": [
              "<Figure size 640x480 with 1 Axes>"
            ]
          },
          "metadata": {},
          "output_type": "display_data"
        }
      ],
      "source": [
        "# Vamos a crear un array de valores enteros del 1 al 6, que va representar las caras de un dado.\n",
        "\n",
        "valores = np.arange(1,7)\n",
        "\n",
        "# crea un array con seis ceros y luego sumamos 1/6 a cada elemento, resultando en:\n",
        "# array([0.1667, 0.1667, 0.1667, 0.1667, 0.1667, 0.1667])\n",
        "\n",
        "probas = np.zeros(6) + 1/6\n",
        "\n",
        "plt.bar(valores, probas)             # genera un gráfico de barras: plt.bar(x, y)\n",
        "\n",
        "plt.title('Distribución de probabilidad uniforme: lanzamiento de un dado')\n",
        "# plt.savefig('distribucion_dado.png', dpi = 400)\n",
        "plt.show()"
      ]
    },
    {
      "cell_type": "markdown",
      "metadata": {
        "id": "FrXrf9yrBfgf"
      },
      "source": [
        "En este caso, decimos que la distribución de probabilidad es **uniforme discreta**, ya que le asigna la misma probabilidad a los seis valores que pueden salir al tirar el dado. Si el dado estuviera cargado, ya no sería uniforme.\n",
        "\n",
        "**Algunos detalles**:\n",
        "1. El resultado de tirar un dado es un ejemplo de una *variable aleatoria*.\n",
        "2. En el caso del dado, la variable aleatoria puede tomar valores *discretos* y *acotados* (limitados): 1, 2, 3, 4, 5 y 6\n",
        "3. Existen variables aleatorias donde los posibles valores que puede tomar son continuos y no acotados. Veremos la distribución más famosa de ellas a continuación."
      ]
    },
    {
      "cell_type": "markdown",
      "metadata": {
        "id": "uiHJDBa9Bfgf"
      },
      "source": [
        "### Distribución Normal o Gaussiana\n",
        "\n",
        "La distribución normal o gaussiana debe ser la distribución más famosa dentro de las distribuciones. Es una distribución de variable continua y aparece en una infinidad de ámbitos de la ciencia. Muchas variables asociadas a fenómenos naturales siguen una distribución gaussiana; un ejemplo típico es la estatura de las personas.\n",
        "\n",
        "Los dos parámetros de una distribución Gaussiana son: su valor medio $\\mu$ y su desviacíon estándar $\\sigma$. Estos valores son *teóricos*, es decir, son propios de la distribución de probabilidad.\n",
        "\n",
        "Numpy nos provee de herramientas para generar valores aleatorios de distribuciones normales. A continuación generamos, usando `np.random.normal()`, muestras de dos distribuciones normales, con el mismo valor medio pero distinta desviación estándar. **Consultar** la ayuda de la función para entender bien qué hace."
      ]
    },
    {
      "cell_type": "code",
      "execution_count": null,
      "metadata": {
        "scrolled": true,
        "tags": [],
        "collapsed": true,
        "id": "Fu184G2JBfgg",
        "outputId": "63daee1c-871c-425f-c605-9a33e7d885b5"
      },
      "outputs": [
        {
          "name": "stdout",
          "output_type": "stream",
          "text": [
            "[ 6.53451221e+00  7.99326963e+00 -2.14367655e+00 -5.74787845e-02\n",
            "  1.30369782e+00 -5.63082579e-01  1.81129064e+00  5.27961650e+00\n",
            " -1.54173244e+00  6.69577897e+00 -5.92325207e+00 -5.09735340e+00\n",
            "  4.92085146e-01  2.98623803e+00 -8.38431764e-01  5.09607703e+00\n",
            "  3.46017233e+00 -5.92126407e+00  4.12784552e+00 -3.45286799e-01\n",
            "  6.28717364e+00  5.96799680e+00  4.49571529e+00  2.01309886e+00\n",
            "  5.01292246e+00 -9.41913903e-01  3.54312973e+00  7.77543467e+00\n",
            "  7.79426013e+00  3.61108495e+00  5.19904320e+00 -1.09216534e+00\n",
            "  1.72732796e+00 -5.66047957e+00 -9.12815737e+00  4.83631881e-01\n",
            "  4.53109350e+00  1.03620930e+01 -9.68726513e-01 -9.20018488e+00\n",
            "  1.02920578e+01 -2.41892461e+00 -3.84800725e+00  4.05412099e+00\n",
            " -6.12253563e-02 -1.08867900e+00  1.54971560e+00  1.04573326e+00\n",
            "  6.36025150e+00 -2.37203600e+00  8.69582468e+00  2.20064444e+00\n",
            "  3.74815044e+00  2.02818011e+00  2.41844378e+00  3.15966016e+00\n",
            "  7.76532698e+00  2.57714424e+00 -1.02838269e+00 -5.45619543e-01\n",
            " -1.69717894e+00  1.60752061e+00  5.26471245e-01 -8.56656410e+00\n",
            " -4.20510699e+00  3.55262801e+00 -1.89461390e+00  1.70518516e+00\n",
            "  9.00327438e-01  2.79333098e+00  1.23669541e+00  4.93633061e+00\n",
            "  9.28181318e+00 -3.18657970e+00 -1.47117443e+00 -2.96891000e-01\n",
            "  5.15247920e+00  1.02569667e+00 -4.02575337e+00  8.43087939e-01\n",
            " -7.17361285e+00 -4.53016659e+00  4.21938551e+00  5.90544126e+00\n",
            "  9.89539682e+00  9.62942203e+00  1.52394017e-01  2.81840148e+00\n",
            " -4.08222513e+00  6.80408057e+00  1.53191842e+00 -7.95572034e+00\n",
            " -5.28977029e+00  7.00847003e+00  3.07492835e+00  1.50442430e+00\n",
            "  5.99015851e+00  5.47880834e+00  2.59706947e+00 -9.89954889e-01\n",
            "  6.96364352e+00  1.26017676e+01  9.99317087e+00  1.51094105e+00\n",
            " -9.77636900e-01  3.86481329e+00  7.26500550e+00  8.85990566e+00\n",
            "  9.14202972e+00  4.91725257e+00  2.74732914e+00  1.04728150e+01\n",
            "  3.76750915e+00 -2.45044474e+00  5.12587870e+00  9.75646200e-01\n",
            "  2.58722151e+00  2.01253376e+00  1.40294240e+00 -4.57614575e+00\n",
            " -3.18958373e+00 -4.30645113e-01 -2.50207612e+00  2.95037541e+00\n",
            " -1.78884888e+00 -6.72188271e+00 -9.55238818e+00 -5.11313091e+00\n",
            "  3.20323807e+00  5.06665602e-01  3.67351479e+00  1.36745687e+00\n",
            "  3.15722920e-01  4.90499006e+00  5.92592610e+00  3.31386763e+00\n",
            "  6.53243163e+00  2.98750556e-01  5.64886186e+00  1.52392071e+01\n",
            "  1.82677978e+00 -6.95026856e-01 -2.90621180e+00  7.17459917e+00\n",
            " -6.24295785e-01  7.12413964e+00 -1.03688832e+00 -1.67845558e+00\n",
            "  3.05792047e+00  9.77189032e+00  3.55710325e+00  3.23277610e+00\n",
            "  5.16916129e+00  7.01997742e+00  1.89422847e+00 -4.36949430e-01\n",
            "  1.04418051e+00  1.18298109e+00  1.33209296e+01 -8.01295925e-01\n",
            " -1.87331577e+00  2.41635499e+00  1.18177374e+01  1.17189186e+01\n",
            "  8.01065336e+00  3.67215687e+00 -3.77476296e-01  5.72761867e+00\n",
            "  2.82394169e+00 -2.84651699e+00  6.12889276e+00 -9.69718212e-01\n",
            " -2.67091183e+00  5.26065791e-01 -1.31959869e+00  4.32414990e+00\n",
            "  3.38740150e+00  4.61603059e+00  1.30914969e+01  1.51617974e+01\n",
            " -1.84610718e+00  1.15068878e+00 -1.96130482e+00 -6.37311503e+00\n",
            " -4.03909898e+00 -4.69482737e+00  3.99068309e+00 -2.31493933e+00\n",
            " -3.14158471e+00  9.43218860e+00  1.55215262e+00 -3.73635815e+00\n",
            " -2.02252957e+00  8.11083765e+00  1.68234002e+00  1.62342211e+00\n",
            "  7.82171127e+00  3.95083630e+00 -8.24184358e+00  7.01628623e-01\n",
            "  2.52905158e+00 -3.26642366e+00  1.21008755e+00 -1.14646911e+00\n",
            " -4.68042846e-01 -3.85663524e+00  8.39209150e+00  1.67526781e+00\n",
            " -5.33055727e+00  7.89951955e+00  7.36089182e+00  4.59021503e+00\n",
            "  1.54149530e+00  4.98336618e+00 -2.06727522e+00  4.83196721e+00\n",
            " -2.12128340e+00  5.12294832e+00  1.04815222e+00  1.13914966e-01\n",
            "  4.61335946e+00  9.58013236e+00  1.00819981e+01  2.96640664e+00\n",
            " -1.44395364e+00  9.79649796e+00  6.42229185e+00  1.06324651e+01\n",
            " -2.51883233e+00  1.63151089e+00  9.01344712e+00  8.04795930e+00\n",
            "  4.52668068e+00  1.88598625e+00  4.53299893e+00  7.68316729e+00\n",
            " -2.16122637e+00 -5.51888817e+00 -1.16687742e+00  7.05280100e+00\n",
            "  4.79349155e+00 -3.78973074e-01 -1.78072829e+00  6.98434725e+00\n",
            "  8.94863680e+00  2.99183465e+00 -3.62095280e+00  9.16436159e+00\n",
            " -2.43376192e+00  2.35529316e+00  3.33281514e+00  3.50782985e+00\n",
            " -1.41433500e+00  8.93054893e+00  4.79324411e-01  5.00384612e+00\n",
            "  2.01497566e+00  7.49099546e+00 -9.82258040e+00 -2.67689683e+00\n",
            " -1.14031293e+00  4.87005615e+00 -5.33633591e+00  1.36537180e+01\n",
            "  4.24832445e+00  7.65224807e+00  1.07303203e+01  2.51352426e+00\n",
            "  2.97054399e+00  1.18880787e+00  4.99301170e+00 -3.27919466e+00\n",
            " -4.81483419e+00  7.13945003e+00 -4.32461134e+00 -7.76446548e-01\n",
            " -2.90363362e+00  2.89386388e+00  3.06373209e-01  2.56147992e+00\n",
            "  3.08590686e+00  3.62054880e+00  8.45366457e+00 -3.17402014e-01\n",
            " -8.07306073e-01  8.28272251e+00 -2.19937411e+00 -5.89506981e-01\n",
            "  5.56635458e+00  9.98148797e-01  4.43751608e+00 -4.64362855e+00\n",
            "  7.99888960e+00 -5.59305864e+00 -5.78028884e-01  1.20930032e+00\n",
            "  8.73786848e+00  3.79527716e+00  6.65037411e+00 -2.75998946e+00\n",
            " -5.70134224e-02  2.08826400e-01  2.34270341e+00  3.91495770e-01\n",
            "  6.14032072e+00  1.88119307e-01 -1.06492708e+01  1.05794704e+01\n",
            "  9.16897333e-01 -6.65330432e+00  7.97881329e+00 -4.09716731e+00\n",
            "  6.69298215e+00 -5.08788187e-01  2.18732988e+00  8.20029091e+00\n",
            "  7.18574690e+00  6.49559234e-01  1.00180240e+01  5.75742420e+00\n",
            "  9.14525878e+00 -3.66617628e+00  5.34386530e+00  1.36429141e+01\n",
            " -6.69597097e+00  5.31417725e+00  3.34105476e+00 -3.84112263e+00\n",
            " -6.06451083e+00 -6.83374558e+00  6.99031307e+00 -5.49124347e+00\n",
            "  6.17119430e+00  4.54584497e+00 -6.94294102e+00  5.79622929e+00\n",
            "  6.32508584e+00  5.58429539e+00 -3.52472055e-01 -6.65513975e+00\n",
            "  7.69160093e+00  9.04866896e-01 -2.76963745e+00 -8.07957535e+00\n",
            "  4.49937953e+00  2.00754526e+00 -4.06998715e+00 -9.06103903e-01\n",
            "  2.59581116e+00  6.00801778e-01  2.46399837e-01 -9.69296468e+00\n",
            " -3.03471160e+00 -1.46296100e+00  4.06139850e+00  4.73338711e+00\n",
            " -2.00172566e-01  1.97284290e+00 -9.64696906e+00  9.65019456e-01\n",
            "  6.00752727e+00 -4.05042612e+00  7.79126819e+00  5.67479470e+00\n",
            "  5.87645127e+00 -1.24078104e+00  5.61123497e+00 -6.19253440e+00\n",
            " -2.20440772e+00 -9.05898633e-01  3.19449157e-01  3.76731010e+00\n",
            "  1.53379963e+00  3.02526017e+00 -1.43374192e+00  5.48508926e+00\n",
            " -6.70960645e-02  2.67955485e+00 -3.83161132e+00  7.65167630e+00\n",
            " -4.12462348e+00  4.14512892e+00  8.59494193e+00  2.00043358e+00\n",
            " -2.53002644e-01 -1.66151323e+00  3.09179247e+00  2.12298987e+00\n",
            " -2.81611359e+00 -4.65357518e+00  1.61106709e+01  2.97604103e+00\n",
            "  9.21725786e-01  2.14252479e+00  3.76161633e+00  3.53078380e+00\n",
            " -4.89446273e-01 -4.56023724e+00 -2.82430784e-03  6.80085998e+00] [ 2.03158541e+00  3.55868763e-01  2.31357129e+00 -1.01645500e+00\n",
            "  5.55450223e+00  4.23745565e-01  1.09457042e+00 -7.94219555e-01\n",
            " -2.90350364e+00  3.47198361e+00  3.34760373e+00  2.06310502e+00\n",
            "  5.64128108e-01  3.49489293e+00  7.53649863e+00  1.08692726e+00\n",
            " -1.46356241e+00  3.13384055e+00  1.39890220e+00  8.09889730e-01\n",
            "  4.93186765e-01 -1.75687232e+00  2.08058654e+00  2.33721674e+00\n",
            "  2.34745300e+00  2.46950975e+00  3.72459821e+00  3.89762987e+00\n",
            "  5.58914145e+00  3.63955462e-01  3.93407618e+00  4.91001997e-01\n",
            "  1.00891314e+00  2.01771951e+00  1.47692193e+00  1.19494193e+00\n",
            " -5.03190081e-02  2.33078529e+00 -6.87111300e-01  2.74583911e+00\n",
            " -4.47164469e-01  2.45395064e+00  5.76681439e-01  5.12128764e+00\n",
            "  7.40742291e+00  8.71792116e-01  1.99507489e+00  4.85920484e+00\n",
            "  1.94991887e+00  8.50013231e-01 -1.37690040e+00 -8.16627381e-01\n",
            "  1.59859126e+00 -8.78396702e-01  3.42071664e+00  3.07781626e+00\n",
            "  2.88460639e+00  5.67465216e-01  4.68270228e+00  3.92398504e+00\n",
            "  1.35199554e+00  5.14449143e-01  2.51709994e+00  2.93370541e+00\n",
            "  3.37307716e+00  9.80225743e-01 -4.24660800e+00  8.22119056e-01\n",
            "  7.47397663e-01  3.60837502e+00  9.50973049e-01  1.74089386e+00\n",
            "  6.86364684e-03  5.65869961e+00  2.84785570e+00  2.32053366e+00\n",
            " -3.19139167e+00 -3.46614381e-01  2.14642028e+00  3.68537064e+00\n",
            " -1.12737243e+00  5.80147519e+00  4.74504486e+00 -4.80507634e-01\n",
            "  1.96971223e+00  4.66007701e+00  2.66795622e+00  3.06342089e+00\n",
            " -5.14185791e-01  2.04022104e+00 -1.36882702e+00  1.67822355e+00\n",
            "  3.07343612e+00  4.47211372e-01  1.82582836e+00  1.15976600e+00\n",
            " -1.34603247e+00  2.43253304e+00 -7.67032918e-01 -1.49981361e+00\n",
            "  9.15592114e-02  4.18385605e+00  4.60543416e+00 -1.24178272e+00\n",
            "  3.14460731e-01  4.20228310e+00  1.05456253e+00  1.25114788e+00\n",
            "  8.77151170e-01  3.23867642e+00  2.59658332e-01  1.20383075e-01\n",
            "  1.52939809e+00  2.51696543e+00  1.47480485e+00  9.08552098e-01\n",
            "  1.69274300e+00  4.21605463e+00  1.53190948e+00  5.41965554e-03\n",
            "  4.77447901e+00  2.11932956e+00 -1.11861062e-01  8.80049708e-01\n",
            "  3.06573517e+00  1.06536374e+00  2.25672143e+00  1.47038928e+00\n",
            " -2.15532656e+00 -1.89254171e+00  3.85557683e+00  2.93269892e+00\n",
            "  9.31570852e-03  3.66641169e+00 -5.81648680e-01  1.52350170e+00\n",
            "  3.23605154e+00  6.13411860e+00  3.09290653e+00  1.96813028e+00\n",
            "  3.77520030e+00  3.56422367e+00  1.74356939e+00  9.56809323e-01\n",
            " -6.88468935e-01  9.23869050e-01  9.68621296e-01  1.29501013e+00\n",
            "  1.27571367e+00  5.02971091e+00  1.96120113e+00  1.94031887e+00\n",
            "  3.46558177e+00  3.55502716e+00  3.56344286e+00  1.44417914e+00\n",
            "  2.89176906e+00  7.34397958e-01 -2.66104916e-01  3.78834670e+00\n",
            "  1.37940431e+00  8.30831925e-02 -4.37270557e-02  3.45437248e+00\n",
            "  2.97685143e+00  3.26666625e+00  1.68992492e+00  1.22022654e+00\n",
            "  3.17083197e+00  2.17269448e+00  1.50613605e+00  4.80480068e+00\n",
            "  1.34419928e+00  8.93302596e-01  9.00185291e-01  3.24596885e+00\n",
            " -2.77602188e+00  8.37238977e-01  4.99352966e-01  1.57932048e+00\n",
            "  7.19272024e-01  5.17217092e+00  1.45736956e-01  2.54236846e+00\n",
            " -4.93293468e-01  1.51790094e+00  3.95948152e+00  2.22153589e+00\n",
            "  5.82036499e-02  9.57707932e-01  1.75743986e+00 -1.79374284e-01\n",
            "  1.18186021e+00  2.51697851e-01  8.40220444e-01  1.85111122e+00\n",
            "  3.97064656e+00 -3.19860546e+00  2.18930045e+00 -1.55630496e-01\n",
            "  1.74161277e+00 -2.41217981e+00 -8.38358416e-01  2.48781434e+00\n",
            "  1.45139536e+00  8.75478747e-01  2.39171377e+00  4.23865645e+00\n",
            "  2.53689469e+00 -1.94989170e+00 -7.60909659e-01  1.58081135e+00\n",
            " -8.82792333e-01 -1.02853730e+00  1.96704555e+00  1.32939677e+00\n",
            "  3.16758766e+00 -1.30304077e+00  2.62855640e+00  1.74181637e+00\n",
            " -4.49647122e-01  2.16960206e+00  2.09372533e-01  5.09339317e+00\n",
            " -1.28111925e+00  6.52781324e+00  1.08930763e+00  2.55783455e+00\n",
            "  4.19311765e+00  5.49166817e-01  7.25219926e-01  9.64604928e-01\n",
            " -1.58816004e+00  3.45534861e+00  2.20127984e+00  1.87027796e+00\n",
            "  3.77430776e+00  6.67206221e-01  3.18890298e+00  2.08098290e+00\n",
            "  1.11337076e+00  1.49906492e+00  1.34228189e+00  3.53710382e-02\n",
            "  1.53460778e+00  1.92659961e+00  6.99082077e+00 -3.22104006e-01\n",
            "  8.24331628e-01 -1.49186149e-01  1.42382036e+00  1.33218528e-01\n",
            "  1.66134902e+00  2.15799576e+00  1.22511438e+00 -4.26753361e-01\n",
            " -1.19009967e+00  1.70099820e+00  3.14368718e+00  2.77702312e+00\n",
            "  3.19241285e+00  3.92798021e+00 -4.75628946e+00  2.74839686e+00\n",
            "  1.39958032e+00  3.49057733e-01  1.27551054e+00  2.35033179e+00\n",
            "  2.78398133e+00  1.22339365e+00  3.49712434e-01  8.01490651e-01\n",
            "  1.70573981e+00  5.24586286e+00  2.15925502e+00  2.23509354e+00\n",
            " -9.58320371e-01 -1.51765852e+00  8.59508556e-01  1.72718799e+00\n",
            "  2.50179599e+00  1.60256354e+00  6.20822614e-01  5.75755808e+00\n",
            " -3.39606019e-01  4.59694487e-01  2.82913075e+00  3.35733335e+00\n",
            "  3.87487368e+00  1.89074859e+00  2.58236095e+00  4.07467216e+00\n",
            " -1.45381810e-01  4.27435804e+00  4.78649258e-01  1.21603328e+00\n",
            "  2.63540377e+00  3.38797980e-01 -1.10181360e+00  3.03186804e+00\n",
            " -1.60710848e-01  1.36993799e+00  1.86218405e+00  3.49945920e+00\n",
            " -1.08157723e+00 -5.82168985e-01  4.43588957e+00  2.59177120e+00\n",
            "  4.65191511e+00  2.82467137e+00 -1.04655012e+00  4.68248611e+00\n",
            "  1.89818132e+00  7.70485225e-02 -6.69950228e-01  2.64526374e-01\n",
            "  3.30302248e+00  1.30155708e+00 -1.41546991e+00  2.36820684e-01\n",
            "  1.98105486e+00 -7.09454570e-01  4.56677156e-01  1.52086026e-01\n",
            "  3.21141725e+00 -2.29931279e+00  4.09132454e-01  3.74600599e-01\n",
            "  1.70516865e+00  1.02694453e+00 -1.15336846e+00  3.95627814e+00\n",
            "  1.65654815e+00  2.70115866e+00  8.89394898e-01  2.31896175e+00\n",
            "  3.82747845e+00  2.46528024e+00  3.67614418e+00  3.01885135e+00\n",
            "  1.29969634e+00 -5.05157612e-01  2.67283306e+00  2.90826074e+00\n",
            "  2.67710619e+00  3.24164657e+00  3.39061975e+00  8.55825498e-01\n",
            "  1.06094623e+00  8.59014578e-02  2.67689722e-01  5.77381723e+00\n",
            "  4.95246048e+00 -1.89172429e-01  3.80761293e+00  5.07798202e+00\n",
            "  3.13597749e+00  2.59366390e+00  2.93247564e+00  8.23362693e-01\n",
            "  4.40983217e+00  2.34497770e+00 -1.46519416e+00 -6.66252166e-01\n",
            " -8.84160366e-01  2.71114275e+00  4.31761871e+00  2.65183082e+00\n",
            "  2.86638221e+00  1.69203024e+00  1.63620556e+00  1.96344567e+00\n",
            "  4.54810471e+00  4.49065708e+00  2.21393398e+00 -2.33850686e-01\n",
            "  5.24275523e-01  3.69789160e+00 -1.91959610e-01 -6.15321843e-01\n",
            "  4.86346188e+00  1.16539816e+00  5.68455153e+00  1.23257597e+00\n",
            "  2.07638881e+00  6.83456892e+00 -1.03829971e+00 -8.75207519e-01\n",
            "  5.87270882e-01 -1.02539486e+00 -3.37317984e-01  1.02155614e+00\n",
            "  9.82289951e-01 -1.98727388e+00 -1.50216764e+00 -9.83487424e-01\n",
            "  1.85222088e+00  8.11807780e-01  1.93101841e+00  2.15705282e+00]\n"
          ]
        }
      ],
      "source": [
        "mu = 2.0              # valor medio  μ\n",
        "sigma_1 = 5.0         # desviacíon estándar  σ   → La desviación estándar define qué tan dispersos están los datos.\n",
        "sigma_2 = 2.0\n",
        "muestras_1 = np.random.normal(loc = mu, scale = sigma_1, size = 400)    # size = 400 → Se generan 400 valores\n",
        "muestras_2 = np.random.normal(loc = mu, scale = sigma_2, size = 400)\n",
        "print(muestras_1, muestras_2)"
      ]
    },
    {
      "cell_type": "markdown",
      "metadata": {
        "id": "lWT8fS3TBfgg"
      },
      "source": [
        "Notar que son dos \"tiras\" de números, bastante largas y que a simple vista no nos dicen mucho. Mejor, podemos graficar su histograma."
      ]
    },
    {
      "cell_type": "code",
      "execution_count": null,
      "metadata": {
        "tags": [],
        "id": "e6opM-74Bfgg",
        "outputId": "08eed601-5693-4185-9e66-3e3b9276d820"
      },
      "outputs": [
        {
          "data": {
            "image/png": "[encoded data removed]",
            "text/plain": [
              "<Figure size 1000x800 with 1 Axes>"
            ]
          },
          "metadata": {},
          "output_type": "display_data"
        }
      ],
      "source": [
        "plt.figure(figsize = (10,8))\n",
        "plt.hist(muestras_1, bins = 20, alpha = 0.5, label = 'Histrograma Muestra 1')\n",
        "plt.hist(muestras_2, bins = 20, alpha = 0.5, label = 'Histrograma Muestra 2')\n",
        "plt.legend()\n",
        "plt.grid()\n",
        "plt.show()"
      ]
    },
    {
      "cell_type": "markdown",
      "metadata": {
        "id": "bm8qSbmrBfgh"
      },
      "source": [
        "Volver a \"generar\" las muestas y hacer sus histogramas. ¿Cambió?¿Por qué?"
      ]
    },
    {
      "cell_type": "markdown",
      "metadata": {
        "id": "QMVFONzwBfgh"
      },
      "source": [
        "### Promedio\n",
        "\n",
        "Dados $n$ números $x_1,x_2,...,x_n$, el promedio o media es\n",
        "\n",
        "$$\\overline{x} = \\frac{1}{n}\\sum_{i=1}^{n} x_i = \\frac{x_1 + x_2 + ... + x_n}{n}$$"
      ]
    },
    {
      "cell_type": "markdown",
      "metadata": {
        "id": "1gFbu2A1Bfgh"
      },
      "source": [
        "y lo podemos calcular *a mano* con Python"
      ]
    },
    {
      "cell_type": "code",
      "execution_count": null,
      "metadata": {
        "id": "zAEIDoVhBfgh",
        "outputId": "52b7144a-1602-499b-c48a-d2baa52f10da"
      },
      "outputs": [
        {
          "name": "stdout",
          "output_type": "stream",
          "text": [
            "2.3333333333333335\n"
          ]
        }
      ],
      "source": [
        "x_s = np.array([1,2,3,1,2,2,3,4,1,2,3,4,1,2,4])\n",
        "n = len(x_s)\n",
        "\n",
        "#forma lenta\n",
        "x_mean = 0\n",
        "for x in x_s:\n",
        "    x_mean +=x\n",
        "x_mean/=n\n",
        "print(x_mean)"
      ]
    },
    {
      "cell_type": "markdown",
      "metadata": {
        "id": "LvOk3GtuBfgi"
      },
      "source": [
        "o, mejor, usando Numpy"
      ]
    },
    {
      "cell_type": "code",
      "execution_count": null,
      "metadata": {
        "id": "TdNbbEdaBfgi",
        "outputId": "b1a4b7da-0125-4cd5-97e7-e3f825399ec1"
      },
      "outputs": [
        {
          "name": "stdout",
          "output_type": "stream",
          "text": [
            "2.3333333333333335\n"
          ]
        }
      ],
      "source": [
        "x_mean = np.mean(x_s)\n",
        "print(x_mean)"
      ]
    },
    {
      "cell_type": "markdown",
      "metadata": {
        "id": "vCvutcH8Bfgi"
      },
      "source": [
        "**Comentarios**:\n",
        "1. Dado un conjunto de números, el promedio suele ser considerado el número más representativo de ese conjunto. Esto no siempre es así. Pensar por qué.\n",
        "2. Al conjunto de números $x_1,...,x_n$ los pueden encontrar por el nombre de *población* o *muestra* (¡Ojo que no estamos diciendo que *población* y *muestra* sean lo mismo!).\n"
      ]
    },
    {
      "cell_type": "markdown",
      "metadata": {
        "id": "PhwBbjSrBfgi"
      },
      "source": [
        "### Desviación Estándar\n",
        "\n",
        "La desviación estándar nos da una idea de cuán \"dispersos\" están los valores con respecto a su promedio. En general se usa la letra griega $\\sigma$ para representarla (igual que el parámetro $\\sigma$ de la distribución normal, ¡pero refieren a cosas distintas - aunque relacionadas!) o las siglas $SD$. Como no queremos que se confundan, preferimos la segunda opción.\n",
        "\n",
        "$$ SD = \\sqrt{\\frac{\\sum_{i=1}^{n} (x_i -\\overline{x})^2}{n - 1}}$$\n",
        "\n",
        "Numpy, nuevamente, tiene funciones ya incorporadas que calculan la desviación estándar de un arreglo:"
      ]
    },
    {
      "cell_type": "code",
      "execution_count": null,
      "metadata": {
        "id": "jdl1IVFcBfgi",
        "outputId": "a8f7341f-6cf8-4600-92c4-64a6777fcd6f"
      },
      "outputs": [
        {
          "name": "stdout",
          "output_type": "stream",
          "text": [
            "1.0749676997731399\n"
          ]
        }
      ],
      "source": [
        "x_std = np.std(x_s)\n",
        "print(x_std)"
      ]
    },
    {
      "cell_type": "markdown",
      "metadata": {
        "id": "0fRu55_gBfgi"
      },
      "source": [
        "**Para investigar**: ¿qué es el parámetro `ddof` de esa función?"
      ]
    },
    {
      "cell_type": "markdown",
      "metadata": {
        "id": "22r00Y85Bfgi"
      },
      "source": [
        "### Promedio y desviación estándar en una distribución Normal\n",
        "\n",
        "En una distribución normal, el promedio de las muestras obtenidas *tiende* al valor medio $\\mu$ de la distribución, y la desviación estándar *tiende* a la desviacíon estándar $\\sigma$ de la distribución. Notar, entonces, que existen valores calculados (promedio, desviación estándar) y valores teóricos ($\\mu$ y $\\sigma$). Confundirlos entre sí es un error común."
      ]
    },
    {
      "cell_type": "code",
      "execution_count": null,
      "metadata": {
        "id": "H6jsVDSjBfgj"
      },
      "outputs": [],
      "source": [
        "mu = 8.5\n",
        "sigma = 3.0\n",
        "muestras = np.random.normal(loc = mu, scale = sigma, size = 400)"
      ]
    },
    {
      "cell_type": "code",
      "execution_count": null,
      "metadata": {
        "id": "chRE7eeaBfgj",
        "outputId": "5145f9bc-1e78-4722-d17e-743792aaf947"
      },
      "outputs": [
        {
          "name": "stdout",
          "output_type": "stream",
          "text": [
            "Valor medio teorico: 8.5 . Valor medio calculado: 8.49072854458806\n",
            "Desviacion estandar teorica: 3.0 . Desviacion estandar calculada: 3.02079930202907\n"
          ]
        }
      ],
      "source": [
        "print('Valor medio teorico:', mu, '. Valor medio calculado:', muestras.mean())\n",
        "print('Desviacion estandar teorica:', sigma, '. Desviacion estandar calculada:', muestras.std())"
      ]
    },
    {
      "cell_type": "markdown",
      "metadata": {
        "id": "SG_Z-Yd2Bfgj"
      },
      "source": [
        "¿Por qué no coinciden?¿Qué podemos hacer para que se parezcan cada vez más?"
      ]
    },
    {
      "cell_type": "markdown",
      "metadata": {
        "id": "JG5G8CRZBfgj"
      },
      "source": [
        "## Repaso: Estadística con Python/Numpy\n",
        "\n",
        "Como vimos, en la librería Numpy ya hay funciones que calculan varios *estadísticos* dada una muestra\n"
      ]
    },
    {
      "cell_type": "code",
      "execution_count": null,
      "metadata": {
        "id": "cy4wYL9RBfgj",
        "outputId": "bcaf2f1b-174d-4d75-babb-9087403be6b0"
      },
      "outputs": [
        {
          "name": "stdout",
          "output_type": "stream",
          "text": [
            "2.3333333333333335 1.0749676997731399\n"
          ]
        }
      ],
      "source": [
        "x_s = np.array([1,2,3,1,2,2,3,4,1,2,3,4,1,2,4])\n",
        "x_mean = np.mean(x_s) #alternativamente, x_s.mean()\n",
        "std = np.std(x_s) #alternativamente, x_s.std()\n",
        "print(x_mean, std)"
      ]
    },
    {
      "cell_type": "markdown",
      "metadata": {
        "id": "XhpFy2TRBfgj"
      },
      "source": [
        "También hay funciones que generan muestras al azar de una distribución"
      ]
    },
    {
      "cell_type": "code",
      "execution_count": null,
      "metadata": {
        "id": "eiYryclIBfgj",
        "outputId": "8e3fdfea-5a9c-4744-a8a6-189e9b1ec484"
      },
      "outputs": [
        {
          "name": "stdout",
          "output_type": "stream",
          "text": [
            "[ 8.83834879  4.09821708  1.44101813  1.07188724  8.72100332 -2.2560923\n",
            " -7.49970882  8.0829361  -3.87543139 10.48693917]\n"
          ]
        }
      ],
      "source": [
        "promedio = 2.0\n",
        "std = 5.0\n",
        "muestras_normal = np.random.normal(loc = promedio, scale = std, size = 400)\n",
        "print(muestras_normal[:10])"
      ]
    },
    {
      "cell_type": "markdown",
      "metadata": {
        "id": "vByIYHc5Bfgj"
      },
      "source": [
        "Y con Matplotlib podemos hacer histogramas"
      ]
    },
    {
      "cell_type": "code",
      "execution_count": null,
      "metadata": {
        "id": "KJEkdceWBfgk",
        "outputId": "32b83ada-c676-4af9-905e-ab6bf97aa99d"
      },
      "outputs": [
        {
          "data": {
            "image/png": "[encoded data removed]",
            "text/plain": [
              "<Figure size 432x288 with 1 Axes>"
            ]
          },
          "metadata": {
            "needs_background": "light"
          },
          "output_type": "display_data"
        }
      ],
      "source": [
        "plt.hist(muestras_normal, bins = 20)\n",
        "plt.grid()\n",
        "plt.show()"
      ]
    },
    {
      "cell_type": "markdown",
      "metadata": {
        "id": "pYm5P8bWBfgk"
      },
      "source": [
        "## Ejercicio\n",
        "\n",
        "¿Cuál será el promedio de los valores obtenidos de tirar muchas veces un dado? Vamos a tratar de responder esta pregunta *simulando* un dado y luego comparar con el valor teórico.\n",
        "\n",
        "1. Obtener 30 muestras al azar de un dado. No hay una única forma de hacerlo. Pueden googlear o mirar la documentación del módulo *random* de Numpy (https://docs.scipy.org/doc/numpy-1.15.1/reference/routines.random.html). Pista: choice o randint."
      ]
    },
    {
      "cell_type": "code",
      "execution_count": null,
      "metadata": {
        "scrolled": true,
        "id": "ElLMLoXSBfgk"
      },
      "outputs": [],
      "source": [
        "muestras_dado = np.random.randint(1,7,size=30)\n",
        "#print(muestras_dado)"
      ]
    },
    {
      "cell_type": "markdown",
      "metadata": {
        "id": "d3CB1cjEBfgk"
      },
      "source": [
        "2. Hacer el histograma. ¿Se parece a lo que esperaban? Volver esta celda y la anterior, pero obteniendo 1000 muestras."
      ]
    },
    {
      "cell_type": "code",
      "execution_count": null,
      "metadata": {
        "id": "NdcGK9qyBfgk",
        "outputId": "82858c14-814c-4cf1-a979-b11aadfa41c8"
      },
      "outputs": [
        {
          "data": {
            "image/png": "[encoded data removed]",
            "text/plain": [
              "<Figure size 432x288 with 1 Axes>"
            ]
          },
          "metadata": {
            "needs_background": "light"
          },
          "output_type": "display_data"
        }
      ],
      "source": [
        "plt.hist(muestras_dado, bins = 6)\n",
        "plt.grid()\n",
        "plt.show()"
      ]
    },
    {
      "cell_type": "markdown",
      "metadata": {
        "id": "EIeZG1vPBfgk"
      },
      "source": [
        "3. Obtener el valor medio y la desviación estándar de la distribución."
      ]
    },
    {
      "cell_type": "code",
      "execution_count": null,
      "metadata": {
        "id": "NZfD8SAlBfgk",
        "outputId": "9ba85b50-9b22-4ae3-9171-bac482a241f2"
      },
      "outputs": [
        {
          "name": "stdout",
          "output_type": "stream",
          "text": [
            "3.533333333333333 1.80246744461277\n"
          ]
        }
      ],
      "source": [
        "print(muestras_dado.mean(), muestras_dado.std())"
      ]
    },
    {
      "cell_type": "markdown",
      "metadata": {
        "id": "gvnaDpZEBfgl"
      },
      "source": [
        "4. Averiguar cuales son los valores *esperados*. ¿Están cerca de los valores que obtuvieron ustedes? Pista: mirar en Wikipedia (en inglés) las propiedades de la distribución uniforme discreta."
      ]
    },
    {
      "cell_type": "markdown",
      "metadata": {
        "id": "R6944zhxBfgl"
      },
      "source": [
        "5. ¿Cómo se modifica si el dado está *cargado*?. Simular un dado cargado (pueden *cargar* el número que quieran). Pista: choice"
      ]
    },
    {
      "cell_type": "code",
      "execution_count": null,
      "metadata": {
        "id": "LCOuwDHZBfgl"
      },
      "outputs": [],
      "source": [
        "# a. Crear un arreglo que asigne probabilidades a cada valor del dado. Recordar que las probabilidades deben sumar 1\n",
        "probabilidades = np.array([1,1,1,1,1,6])\n",
        "probabilidades = probabilidades/probabilidades.sum()"
      ]
    },
    {
      "cell_type": "code",
      "execution_count": null,
      "metadata": {
        "id": "3KKVfcEBBfgl"
      },
      "outputs": [],
      "source": [
        "# b. Generar las muestras\n",
        "muestras_dado_cargado = np.random.choice([1,2,3,4,5,6],p=probabilidades, size = 1000)"
      ]
    },
    {
      "cell_type": "code",
      "execution_count": null,
      "metadata": {
        "id": "XW0fpW2ABfgp",
        "outputId": "20cdec68-0857-4af3-c1c8-612f5a83443d"
      },
      "outputs": [
        {
          "name": "stdout",
          "output_type": "stream",
          "text": [
            "4.604 1.8130592930182952\n"
          ]
        }
      ],
      "source": [
        "print(muestras_dado_cargado.mean(), muestras_dado_cargado.std())"
      ]
    }
  ],
  "metadata": {
    "kernelspec": {
      "display_name": "Python 3 (ipykernel)",
      "language": "python",
      "name": "python3"
    },
    "language_info": {
      "codemirror_mode": {
        "name": "ipython",
        "version": 3
      },
      "file_extension": ".py",
      "mimetype": "text/x-python",
      "name": "python",
      "nbconvert_exporter": "python",
      "pygments_lexer": "ipython3",
      "version": "3.11.7"
    },
    "colab": {
      "provenance": []
    }
  },
  "nbformat": 4,
  "nbformat_minor": 0
}