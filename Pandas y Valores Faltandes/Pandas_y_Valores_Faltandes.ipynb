{
  "cells": [
    {
      "cell_type": "markdown",
      "metadata": {
        "id": "qIR2sk8mqu7J"
      },
      "source": [
        "# Pandas y Valores Faltandes\n",
        "\n",
        "\n"
      ]
    },
    {
      "cell_type": "markdown",
      "metadata": {
        "id": "jKi9ZUFmqu7K"
      },
      "source": [
        "## 1) Wine Reviews dataset\n",
        "\n",
        "Vamos a trabajar con el siguiente dataset, que corresponde a reviews de vinos.\n"
      ]
    },
    {
      "cell_type": "markdown",
      "source": [
        "### 1 - Importamos Librerias"
      ],
      "metadata": {
        "id": "hlWoLcTJvA8p"
      }
    },
    {
      "cell_type": "code",
      "execution_count": 40,
      "metadata": {
        "id": "A7PPAEa3qu7K"
      },
      "outputs": [],
      "source": [
        "import pandas as pd\n",
        "import matplotlib.pyplot as plt"
      ]
    },
    {
      "cell_type": "markdown",
      "source": [
        "### 2 - Leemos el Dataset"
      ],
      "metadata": {
        "id": "Fq5Le7QmvFS4"
      }
    },
    {
      "cell_type": "code",
      "execution_count": 60,
      "metadata": {
        "colab": {
          "base_uri": "https://localhost:8080/",
          "height": 397
        },
        "id": "MF46gl33qu7L",
        "outputId": "0b47046c-8870-4a79-ef54-8f37a3bc1334"
      },
      "outputs": [
        {
          "output_type": "execute_result",
          "data": {
            "text/plain": [
              "   Unnamed: 0   country                                        description  \\\n",
              "0           0     Italy  Aromas include tropical fruit, broom, brimston...   \n",
              "1           1  Portugal  This is ripe and fruity, a wine that is smooth...   \n",
              "2           2        US  Tart and snappy, the flavors of lime flesh and...   \n",
              "3           3        US  Pineapple rind, lemon pith and orange blossom ...   \n",
              "4           4        US  Much like the regular bottling from 2012, this...   \n",
              "\n",
              "                          designation  points  price           province  \\\n",
              "0                        Vulkà Bianco      87    NaN  Sicily & Sardinia   \n",
              "1                            Avidagos      87   15.0              Douro   \n",
              "2                                 NaN      87   14.0             Oregon   \n",
              "3                Reserve Late Harvest      87   13.0           Michigan   \n",
              "4  Vintner's Reserve Wild Child Block      87   65.0             Oregon   \n",
              "\n",
              "              region_1           region_2         taster_name  \\\n",
              "0                 Etna                NaN       Kerin O’Keefe   \n",
              "1                  NaN                NaN          Roger Voss   \n",
              "2    Willamette Valley  Willamette Valley        Paul Gregutt   \n",
              "3  Lake Michigan Shore                NaN  Alexander Peartree   \n",
              "4    Willamette Valley  Willamette Valley        Paul Gregutt   \n",
              "\n",
              "  taster_twitter_handle                                              title  \\\n",
              "0          @kerinokeefe                  Nicosia 2013 Vulkà Bianco  (Etna)   \n",
              "1            @vossroger      Quinta dos Avidagos 2011 Avidagos Red (Douro)   \n",
              "2           @paulgwine       Rainstorm 2013 Pinot Gris (Willamette Valley)   \n",
              "3                   NaN  St. Julian 2013 Reserve Late Harvest Riesling ...   \n",
              "4           @paulgwine   Sweet Cheeks 2012 Vintner's Reserve Wild Child...   \n",
              "\n",
              "          variety               winery  \n",
              "0     White Blend              Nicosia  \n",
              "1  Portuguese Red  Quinta dos Avidagos  \n",
              "2      Pinot Gris            Rainstorm  \n",
              "3        Riesling           St. Julian  \n",
              "4      Pinot Noir         Sweet Cheeks  "
            ],
            "text/html": [
              "\n",
              "  <div id=\"df-7e1e4641-0309-4465-ae17-691ac581f4a7\" class=\"colab-df-container\">\n",
              "    <div>\n",
              "<style scoped>\n",
              "    .dataframe tbody tr th:only-of-type {\n",
              "        vertical-align: middle;\n",
              "    }\n",
              "\n",
              "    .dataframe tbody tr th {\n",
              "        vertical-align: top;\n",
              "    }\n",
              "\n",
              "    .dataframe thead th {\n",
              "        text-align: right;\n",
              "    }\n",
              "</style>\n",
              "<table border=\"1\" class=\"dataframe\">\n",
              "  <thead>\n",
              "    <tr style=\"text-align: right;\">\n",
              "      <th></th>\n",
              "      <th>Unnamed: 0</th>\n",
              "      <th>country</th>\n",
              "      <th>description</th>\n",
              "      <th>designation</th>\n",
              "      <th>points</th>\n",
              "      <th>price</th>\n",
              "      <th>province</th>\n",
              "      <th>region_1</th>\n",
              "      <th>region_2</th>\n",
              "      <th>taster_name</th>\n",
              "      <th>taster_twitter_handle</th>\n",
              "      <th>title</th>\n",
              "      <th>variety</th>\n",
              "      <th>winery</th>\n",
              "    </tr>\n",
              "  </thead>\n",
              "  <tbody>\n",
              "    <tr>\n",
              "      <th>0</th>\n",
              "      <td>0</td>\n",
              "      <td>Italy</td>\n",
              "      <td>Aromas include tropical fruit, broom, brimston...</td>\n",
              "      <td>Vulkà Bianco</td>\n",
              "      <td>87</td>\n",
              "      <td>NaN</td>\n",
              "      <td>Sicily &amp; Sardinia</td>\n",
              "      <td>Etna</td>\n",
              "      <td>NaN</td>\n",
              "      <td>Kerin O’Keefe</td>\n",
              "      <td>@kerinokeefe</td>\n",
              "      <td>Nicosia 2013 Vulkà Bianco  (Etna)</td>\n",
              "      <td>White Blend</td>\n",
              "      <td>Nicosia</td>\n",
              "    </tr>\n",
              "    <tr>\n",
              "      <th>1</th>\n",
              "      <td>1</td>\n",
              "      <td>Portugal</td>\n",
              "      <td>This is ripe and fruity, a wine that is smooth...</td>\n",
              "      <td>Avidagos</td>\n",
              "      <td>87</td>\n",
              "      <td>15.0</td>\n",
              "      <td>Douro</td>\n",
              "      <td>NaN</td>\n",
              "      <td>NaN</td>\n",
              "      <td>Roger Voss</td>\n",
              "      <td>@vossroger</td>\n",
              "      <td>Quinta dos Avidagos 2011 Avidagos Red (Douro)</td>\n",
              "      <td>Portuguese Red</td>\n",
              "      <td>Quinta dos Avidagos</td>\n",
              "    </tr>\n",
              "    <tr>\n",
              "      <th>2</th>\n",
              "      <td>2</td>\n",
              "      <td>US</td>\n",
              "      <td>Tart and snappy, the flavors of lime flesh and...</td>\n",
              "      <td>NaN</td>\n",
              "      <td>87</td>\n",
              "      <td>14.0</td>\n",
              "      <td>Oregon</td>\n",
              "      <td>Willamette Valley</td>\n",
              "      <td>Willamette Valley</td>\n",
              "      <td>Paul Gregutt</td>\n",
              "      <td>@paulgwine</td>\n",
              "      <td>Rainstorm 2013 Pinot Gris (Willamette Valley)</td>\n",
              "      <td>Pinot Gris</td>\n",
              "      <td>Rainstorm</td>\n",
              "    </tr>\n",
              "    <tr>\n",
              "      <th>3</th>\n",
              "      <td>3</td>\n",
              "      <td>US</td>\n",
              "      <td>Pineapple rind, lemon pith and orange blossom ...</td>\n",
              "      <td>Reserve Late Harvest</td>\n",
              "      <td>87</td>\n",
              "      <td>13.0</td>\n",
              "      <td>Michigan</td>\n",
              "      <td>Lake Michigan Shore</td>\n",
              "      <td>NaN</td>\n",
              "      <td>Alexander Peartree</td>\n",
              "      <td>NaN</td>\n",
              "      <td>St. Julian 2013 Reserve Late Harvest Riesling ...</td>\n",
              "      <td>Riesling</td>\n",
              "      <td>St. Julian</td>\n",
              "    </tr>\n",
              "    <tr>\n",
              "      <th>4</th>\n",
              "      <td>4</td>\n",
              "      <td>US</td>\n",
              "      <td>Much like the regular bottling from 2012, this...</td>\n",
              "      <td>Vintner's Reserve Wild Child Block</td>\n",
              "      <td>87</td>\n",
              "      <td>65.0</td>\n",
              "      <td>Oregon</td>\n",
              "      <td>Willamette Valley</td>\n",
              "      <td>Willamette Valley</td>\n",
              "      <td>Paul Gregutt</td>\n",
              "      <td>@paulgwine</td>\n",
              "      <td>Sweet Cheeks 2012 Vintner's Reserve Wild Child...</td>\n",
              "      <td>Pinot Noir</td>\n",
              "      <td>Sweet Cheeks</td>\n",
              "    </tr>\n",
              "  </tbody>\n",
              "</table>\n",
              "</div>\n",
              "    <div class=\"colab-df-buttons\">\n",
              "\n",
              "  <div class=\"colab-df-container\">\n",
              "    <button class=\"colab-df-convert\" onclick=\"convertToInteractive('df-7e1e4641-0309-4465-ae17-691ac581f4a7')\"\n",
              "            title=\"Convert this dataframe to an interactive table.\"\n",
              "            style=\"display:none;\">\n",
              "\n",
              "  <svg xmlns=\"http://www.w3.org/2000/svg\" height=\"24px\" viewBox=\"0 -960 960 960\">\n",
              "    <path d=\"M120-120v-720h720v720H120Zm60-500h600v-160H180v160Zm220 220h160v-160H400v160Zm0 220h160v-160H400v160ZM180-400h160v-160H180v160Zm440 0h160v-160H620v160ZM180-180h160v-160H180v160Zm440 0h160v-160H620v160Z\"/>\n",
              "  </svg>\n",
              "    </button>\n",
              "\n",
              "  <style>\n",
              "    .colab-df-container {\n",
              "      display:flex;\n",
              "      gap: 12px;\n",
              "    }\n",
              "\n",
              "    .colab-df-convert {\n",
              "      background-color: #E8F0FE;\n",
              "      border: none;\n",
              "      border-radius: 50%;\n",
              "      cursor: pointer;\n",
              "      display: none;\n",
              "      fill: #1967D2;\n",
              "      height: 32px;\n",
              "      padding: 0 0 0 0;\n",
              "      width: 32px;\n",
              "    }\n",
              "\n",
              "    .colab-df-convert:hover {\n",
              "      background-color: #E2EBFA;\n",
              "      box-shadow: 0px 1px 2px rgba(60, 64, 67, 0.3), 0px 1px 3px 1px rgba(60, 64, 67, 0.15);\n",
              "      fill: #174EA6;\n",
              "    }\n",
              "\n",
              "    .colab-df-buttons div {\n",
              "      margin-bottom: 4px;\n",
              "    }\n",
              "\n",
              "    [theme=dark] .colab-df-convert {\n",
              "      background-color: #3B4455;\n",
              "      fill: #D2E3FC;\n",
              "    }\n",
              "\n",
              "    [theme=dark] .colab-df-convert:hover {\n",
              "      background-color: #434B5C;\n",
              "      box-shadow: 0px 1px 3px 1px rgba(0, 0, 0, 0.15);\n",
              "      filter: drop-shadow(0px 1px 2px rgba(0, 0, 0, 0.3));\n",
              "      fill: #FFFFFF;\n",
              "    }\n",
              "  </style>\n",
              "\n",
              "    <script>\n",
              "      const buttonEl =\n",
              "        document.querySelector('#df-7e1e4641-0309-4465-ae17-691ac581f4a7 button.colab-df-convert');\n",
              "      buttonEl.style.display =\n",
              "        google.colab.kernel.accessAllowed ? 'block' : 'none';\n",
              "\n",
              "      async function convertToInteractive(key) {\n",
              "        const element = document.querySelector('#df-7e1e4641-0309-4465-ae17-691ac581f4a7');\n",
              "        const dataTable =\n",
              "          await google.colab.kernel.invokeFunction('convertToInteractive',\n",
              "                                                    [key], {});\n",
              "        if (!dataTable) return;\n",
              "\n",
              "        const docLinkHtml = 'Like what you see? Visit the ' +\n",
              "          '<a target=\"_blank\" href=https://colab.research.google.com/notebooks/data_table.ipynb>data table notebook</a>'\n",
              "          + ' to learn more about interactive tables.';\n",
              "        element.innerHTML = '';\n",
              "        dataTable['output_type'] = 'display_data';\n",
              "        await google.colab.output.renderOutput(dataTable, element);\n",
              "        const docLink = document.createElement('div');\n",
              "        docLink.innerHTML = docLinkHtml;\n",
              "        element.appendChild(docLink);\n",
              "      }\n",
              "    </script>\n",
              "  </div>\n",
              "\n",
              "\n",
              "<div id=\"df-928e8a0f-ec89-4afe-9f22-ecb94183c83c\">\n",
              "  <button class=\"colab-df-quickchart\" onclick=\"quickchart('df-928e8a0f-ec89-4afe-9f22-ecb94183c83c')\"\n",
              "            title=\"Suggest charts\"\n",
              "            style=\"display:none;\">\n",
              "\n",
              "<svg xmlns=\"http://www.w3.org/2000/svg\" height=\"24px\"viewBox=\"0 0 24 24\"\n",
              "     width=\"24px\">\n",
              "    <g>\n",
              "        <path d=\"M19 3H5c-1.1 0-2 .9-2 2v14c0 1.1.9 2 2 2h14c1.1 0 2-.9 2-2V5c0-1.1-.9-2-2-2zM9 17H7v-7h2v7zm4 0h-2V7h2v10zm4 0h-2v-4h2v4z\"/>\n",
              "    </g>\n",
              "</svg>\n",
              "  </button>\n",
              "\n",
              "<style>\n",
              "  .colab-df-quickchart {\n",
              "      --bg-color: #E8F0FE;\n",
              "      --fill-color: #1967D2;\n",
              "      --hover-bg-color: #E2EBFA;\n",
              "      --hover-fill-color: #174EA6;\n",
              "      --disabled-fill-color: #AAA;\n",
              "      --disabled-bg-color: #DDD;\n",
              "  }\n",
              "\n",
              "  [theme=dark] .colab-df-quickchart {\n",
              "      --bg-color: #3B4455;\n",
              "      --fill-color: #D2E3FC;\n",
              "      --hover-bg-color: #434B5C;\n",
              "      --hover-fill-color: #FFFFFF;\n",
              "      --disabled-bg-color: #3B4455;\n",
              "      --disabled-fill-color: #666;\n",
              "  }\n",
              "\n",
              "  .colab-df-quickchart {\n",
              "    background-color: var(--bg-color);\n",
              "    border: none;\n",
              "    border-radius: 50%;\n",
              "    cursor: pointer;\n",
              "    display: none;\n",
              "    fill: var(--fill-color);\n",
              "    height: 32px;\n",
              "    padding: 0;\n",
              "    width: 32px;\n",
              "  }\n",
              "\n",
              "  .colab-df-quickchart:hover {\n",
              "    background-color: var(--hover-bg-color);\n",
              "    box-shadow: 0 1px 2px rgba(60, 64, 67, 0.3), 0 1px 3px 1px rgba(60, 64, 67, 0.15);\n",
              "    fill: var(--button-hover-fill-color);\n",
              "  }\n",
              "\n",
              "  .colab-df-quickchart-complete:disabled,\n",
              "  .colab-df-quickchart-complete:disabled:hover {\n",
              "    background-color: var(--disabled-bg-color);\n",
              "    fill: var(--disabled-fill-color);\n",
              "    box-shadow: none;\n",
              "  }\n",
              "\n",
              "  .colab-df-spinner {\n",
              "    border: 2px solid var(--fill-color);\n",
              "    border-color: transparent;\n",
              "    border-bottom-color: var(--fill-color);\n",
              "    animation:\n",
              "      spin 1s steps(1) infinite;\n",
              "  }\n",
              "\n",
              "  @keyframes spin {\n",
              "    0% {\n",
              "      border-color: transparent;\n",
              "      border-bottom-color: var(--fill-color);\n",
              "      border-left-color: var(--fill-color);\n",
              "    }\n",
              "    20% {\n",
              "      border-color: transparent;\n",
              "      border-left-color: var(--fill-color);\n",
              "      border-top-color: var(--fill-color);\n",
              "    }\n",
              "    30% {\n",
              "      border-color: transparent;\n",
              "      border-left-color: var(--fill-color);\n",
              "      border-top-color: var(--fill-color);\n",
              "      border-right-color: var(--fill-color);\n",
              "    }\n",
              "    40% {\n",
              "      border-color: transparent;\n",
              "      border-right-color: var(--fill-color);\n",
              "      border-top-color: var(--fill-color);\n",
              "    }\n",
              "    60% {\n",
              "      border-color: transparent;\n",
              "      border-right-color: var(--fill-color);\n",
              "    }\n",
              "    80% {\n",
              "      border-color: transparent;\n",
              "      border-right-color: var(--fill-color);\n",
              "      border-bottom-color: var(--fill-color);\n",
              "    }\n",
              "    90% {\n",
              "      border-color: transparent;\n",
              "      border-bottom-color: var(--fill-color);\n",
              "    }\n",
              "  }\n",
              "</style>\n",
              "\n",
              "  <script>\n",
              "    async function quickchart(key) {\n",
              "      const quickchartButtonEl =\n",
              "        document.querySelector('#' + key + ' button');\n",
              "      quickchartButtonEl.disabled = true;  // To prevent multiple clicks.\n",
              "      quickchartButtonEl.classList.add('colab-df-spinner');\n",
              "      try {\n",
              "        const charts = await google.colab.kernel.invokeFunction(\n",
              "            'suggestCharts', [key], {});\n",
              "      } catch (error) {\n",
              "        console.error('Error during call to suggestCharts:', error);\n",
              "      }\n",
              "      quickchartButtonEl.classList.remove('colab-df-spinner');\n",
              "      quickchartButtonEl.classList.add('colab-df-quickchart-complete');\n",
              "    }\n",
              "    (() => {\n",
              "      let quickchartButtonEl =\n",
              "        document.querySelector('#df-928e8a0f-ec89-4afe-9f22-ecb94183c83c button');\n",
              "      quickchartButtonEl.style.display =\n",
              "        google.colab.kernel.accessAllowed ? 'block' : 'none';\n",
              "    })();\n",
              "  </script>\n",
              "</div>\n",
              "\n",
              "    </div>\n",
              "  </div>\n"
            ],
            "application/vnd.google.colaboratory.intrinsic+json": {
              "type": "dataframe",
              "variable_name": "wine_reviews",
              "summary": "{\n  \"name\": \"wine_reviews\",\n  \"rows\": 74798,\n  \"fields\": [\n    {\n      \"column\": \"Unnamed: 0\",\n      \"properties\": {\n        \"dtype\": \"number\",\n        \"std\": 21592,\n        \"min\": 0,\n        \"max\": 74797,\n        \"num_unique_values\": 74798,\n        \"samples\": [\n          47380,\n          62213,\n          16864\n        ],\n        \"semantic_type\": \"\",\n        \"description\": \"\"\n      }\n    },\n    {\n      \"column\": \"country\",\n      \"properties\": {\n        \"dtype\": \"category\",\n        \"num_unique_values\": 41,\n        \"samples\": [\n          \"Uruguay\",\n          \"Hungary\",\n          \"Australia\"\n        ],\n        \"semantic_type\": \"\",\n        \"description\": \"\"\n      }\n    },\n    {\n      \"column\": \"description\",\n      \"properties\": {\n        \"dtype\": \"string\",\n        \"num_unique_values\": 71244,\n        \"samples\": [\n          \"A white Bordeaux-style blend, crisp and edgy, with green fruit flavors sporting a citrusy kick. Young, tight and tart, it shows its alcohol on the angular finish.\",\n          \"This is a friendly fruity wine that has a soft texture and bright acidity. If it does miss a sense of place, it makes up for it with citrus and white fruit flavors that are so fresh. Drink now.\",\n          \"Fern\\u00e3o Pires and Arinto are blended together to yield this ripe and warm, while also poised wine. It has pear and creamed apple flavors that are shot through with orange-zest acidity. Ready to drink in six months.\"\n        ],\n        \"semantic_type\": \"\",\n        \"description\": \"\"\n      }\n    },\n    {\n      \"column\": \"designation\",\n      \"properties\": {\n        \"dtype\": \"category\",\n        \"num_unique_values\": 26481,\n        \"samples\": [\n          \"Deidesheimer Paradiesgarten Trocken\",\n          \"Sweetwater Vineyard\",\n          \"R\\u00e9serve du Propri\\u00e9taire\"\n        ],\n        \"semantic_type\": \"\",\n        \"description\": \"\"\n      }\n    },\n    {\n      \"column\": \"points\",\n      \"properties\": {\n        \"dtype\": \"number\",\n        \"std\": 2,\n        \"min\": 80,\n        \"max\": 100,\n        \"num_unique_values\": 21,\n        \"samples\": [\n          87,\n          93,\n          96\n        ],\n        \"semantic_type\": \"\",\n        \"description\": \"\"\n      }\n    },\n    {\n      \"column\": \"price\",\n      \"properties\": {\n        \"dtype\": \"number\",\n        \"std\": 38.87412879206527,\n        \"min\": 4.0,\n        \"max\": 2500.0,\n        \"num_unique_values\": 322,\n        \"samples\": [\n          87.0,\n          67.0,\n          2500.0\n        ],\n        \"semantic_type\": \"\",\n        \"description\": \"\"\n      }\n    },\n    {\n      \"column\": \"province\",\n      \"properties\": {\n        \"dtype\": \"category\",\n        \"num_unique_values\": 393,\n        \"samples\": [\n          \"\\u00d6sterreichischer Sekt\",\n          \"Sagrada Familia\",\n          \"Israel\"\n        ],\n        \"semantic_type\": \"\",\n        \"description\": \"\"\n      }\n    },\n    {\n      \"column\": \"region_1\",\n      \"properties\": {\n        \"dtype\": \"category\",\n        \"num_unique_values\": 1138,\n        \"samples\": [\n          \"Chianti Colli Fiorentini\",\n          \"Malvasia delle Lipari\",\n          \"Basilicata\"\n        ],\n        \"semantic_type\": \"\",\n        \"description\": \"\"\n      }\n    },\n    {\n      \"column\": \"region_2\",\n      \"properties\": {\n        \"dtype\": \"category\",\n        \"num_unique_values\": 17,\n        \"samples\": [\n          \"Willamette Valley\",\n          \"Napa\",\n          \"Central Valley\"\n        ],\n        \"semantic_type\": \"\",\n        \"description\": \"\"\n      }\n    },\n    {\n      \"column\": \"taster_name\",\n      \"properties\": {\n        \"dtype\": \"category\",\n        \"num_unique_values\": 19,\n        \"samples\": [\n          \"Kerin O\\u2019Keefe\",\n          \"Anna Lee C. Iijima\",\n          \"Anne Krebiehl\\u00a0MW\"\n        ],\n        \"semantic_type\": \"\",\n        \"description\": \"\"\n      }\n    },\n    {\n      \"column\": \"taster_twitter_handle\",\n      \"properties\": {\n        \"dtype\": \"category\",\n        \"num_unique_values\": 15,\n        \"samples\": [\n          \"@AnneInVino\",\n          \"@worldwineguys\",\n          \"@kerinokeefe\"\n        ],\n        \"semantic_type\": \"\",\n        \"description\": \"\"\n      }\n    },\n    {\n      \"column\": \"title\",\n      \"properties\": {\n        \"dtype\": \"string\",\n        \"num_unique_values\": 70785,\n        \"samples\": [\n          \"Auclair 2013 96 Cedars White (Columbia Valley (WA))\",\n          \"La Vis 2009 Ritratti M\\u00fcller-Thurgau (Trentino)\",\n          \"Roccafiore 2008 Prova d'Autore Red (Umbria)\"\n        ],\n        \"semantic_type\": \"\",\n        \"description\": \"\"\n      }\n    },\n    {\n      \"column\": \"variety\",\n      \"properties\": {\n        \"dtype\": \"category\",\n        \"num_unique_values\": 621,\n        \"samples\": [\n          \"Pinot Blanc\",\n          \"Pinot Blanc-Chardonnay\",\n          \"Muscat\"\n        ],\n        \"semantic_type\": \"\",\n        \"description\": \"\"\n      }\n    },\n    {\n      \"column\": \"winery\",\n      \"properties\": {\n        \"dtype\": \"category\",\n        \"num_unique_values\": 14169,\n        \"samples\": [\n          \"Communication Block\",\n          \"Bilton\",\n          \"Fleur\"\n        ],\n        \"semantic_type\": \"\",\n        \"description\": \"\"\n      }\n    }\n  ]\n}"
            }
          },
          "metadata": {},
          "execution_count": 60
        }
      ],
      "source": [
        "wine_reviews = pd.read_csv('wine_reviews.csv')\n",
        "\n",
        "wine_reviews.head()"
      ]
    },
    {
      "cell_type": "markdown",
      "source": [
        "### 3 - Exploramos el dataset"
      ],
      "metadata": {
        "id": "n_O1kTV8vNux"
      }
    },
    {
      "cell_type": "markdown",
      "metadata": {
        "id": "kD0U_YsFqu7L"
      },
      "source": [
        "¿Cuántas columnas (features) tiene?\n",
        "\n",
        "¿Cuáles son sus nombres?\n",
        "\n",
        "¿Y cuántas filas ?\n",
        "\n"
      ]
    },
    {
      "cell_type": "code",
      "source": [
        "# Mostramos la cantidad de filas y columnas del dataset\n",
        "print(\"Dimensiones del dataset (filas, columnas):\", wine_reviews.shape)\n",
        "print()\n",
        "# Mostramos los nombres de las columnas presentes en el dataset\n",
        "print(\"Nombres de las columnas en el dataset:\")\n",
        "print()\n",
        "print(wine_reviews.columns)\n"
      ],
      "metadata": {
        "colab": {
          "base_uri": "https://localhost:8080/"
        },
        "id": "3Pt9ol_Asw_o",
        "outputId": "31a2fbe1-355d-4a3d-bf86-4346f01481fb"
      },
      "execution_count": 42,
      "outputs": [
        {
          "output_type": "stream",
          "name": "stdout",
          "text": [
            "Dimensiones del dataset (filas, columnas): (74798, 14)\n",
            "\n",
            "Nombres de las columnas en el dataset:\n",
            "\n",
            "Index(['Unnamed: 0', 'country', 'description', 'designation', 'points',\n",
            "       'price', 'province', 'region_1', 'region_2', 'taster_name',\n",
            "       'taster_twitter_handle', 'title', 'variety', 'winery'],\n",
            "      dtype='object')\n"
          ]
        }
      ]
    },
    {
      "cell_type": "code",
      "source": [
        "wine_reviews.drop(columns=['Unnamed: 0'], inplace=True)\n",
        "print(\"Se ha eliminado la columna 'Unnamed: 0' del dataset.\")\n",
        "print()\n",
        "# Mostramos las nuevas dimensiones después de la eliminación (por si cambió el número de columnas)\n",
        "print(\"Dimensiones actualizadas del dataset:\", wine_reviews.shape)"
      ],
      "metadata": {
        "colab": {
          "base_uri": "https://localhost:8080/"
        },
        "id": "LSpHQqE_ut2_",
        "outputId": "9f30cc35-52c8-48de-e1fb-3dc8f502d89b"
      },
      "execution_count": 43,
      "outputs": [
        {
          "output_type": "stream",
          "name": "stdout",
          "text": [
            "Se ha eliminado la columna 'Unnamed: 0' del dataset.\n",
            "\n",
            "Dimensiones actualizadas del dataset: (74798, 13)\n"
          ]
        }
      ]
    },
    {
      "cell_type": "code",
      "source": [
        "# comprobamos si se elimino la columna: 'Unnamed: 0'\n",
        "wine_reviews.head()"
      ],
      "metadata": {
        "colab": {
          "base_uri": "https://localhost:8080/",
          "height": 345
        },
        "id": "PIuE1R-QviYb",
        "outputId": "248f4693-666c-49f4-e9fc-8c803cee4221"
      },
      "execution_count": 44,
      "outputs": [
        {
          "output_type": "execute_result",
          "data": {
            "text/plain": [
              "    country                                        description  \\\n",
              "0     Italy  Aromas include tropical fruit, broom, brimston...   \n",
              "1  Portugal  This is ripe and fruity, a wine that is smooth...   \n",
              "2        US  Tart and snappy, the flavors of lime flesh and...   \n",
              "3        US  Pineapple rind, lemon pith and orange blossom ...   \n",
              "4        US  Much like the regular bottling from 2012, this...   \n",
              "\n",
              "                          designation  points  price           province  \\\n",
              "0                        Vulkà Bianco      87    NaN  Sicily & Sardinia   \n",
              "1                            Avidagos      87   15.0              Douro   \n",
              "2                                 NaN      87   14.0             Oregon   \n",
              "3                Reserve Late Harvest      87   13.0           Michigan   \n",
              "4  Vintner's Reserve Wild Child Block      87   65.0             Oregon   \n",
              "\n",
              "              region_1           region_2         taster_name  \\\n",
              "0                 Etna                NaN       Kerin O’Keefe   \n",
              "1                  NaN                NaN          Roger Voss   \n",
              "2    Willamette Valley  Willamette Valley        Paul Gregutt   \n",
              "3  Lake Michigan Shore                NaN  Alexander Peartree   \n",
              "4    Willamette Valley  Willamette Valley        Paul Gregutt   \n",
              "\n",
              "  taster_twitter_handle                                              title  \\\n",
              "0          @kerinokeefe                  Nicosia 2013 Vulkà Bianco  (Etna)   \n",
              "1            @vossroger      Quinta dos Avidagos 2011 Avidagos Red (Douro)   \n",
              "2           @paulgwine       Rainstorm 2013 Pinot Gris (Willamette Valley)   \n",
              "3                   NaN  St. Julian 2013 Reserve Late Harvest Riesling ...   \n",
              "4           @paulgwine   Sweet Cheeks 2012 Vintner's Reserve Wild Child...   \n",
              "\n",
              "          variety               winery  \n",
              "0     White Blend              Nicosia  \n",
              "1  Portuguese Red  Quinta dos Avidagos  \n",
              "2      Pinot Gris            Rainstorm  \n",
              "3        Riesling           St. Julian  \n",
              "4      Pinot Noir         Sweet Cheeks  "
            ],
            "text/html": [
              "\n",
              "  <div id=\"df-a2e3bcaa-381d-4c8e-a2f1-739d299efe03\" class=\"colab-df-container\">\n",
              "    <div>\n",
              "<style scoped>\n",
              "    .dataframe tbody tr th:only-of-type {\n",
              "        vertical-align: middle;\n",
              "    }\n",
              "\n",
              "    .dataframe tbody tr th {\n",
              "        vertical-align: top;\n",
              "    }\n",
              "\n",
              "    .dataframe thead th {\n",
              "        text-align: right;\n",
              "    }\n",
              "</style>\n",
              "<table border=\"1\" class=\"dataframe\">\n",
              "  <thead>\n",
              "    <tr style=\"text-align: right;\">\n",
              "      <th></th>\n",
              "      <th>country</th>\n",
              "      <th>description</th>\n",
              "      <th>designation</th>\n",
              "      <th>points</th>\n",
              "      <th>price</th>\n",
              "      <th>province</th>\n",
              "      <th>region_1</th>\n",
              "      <th>region_2</th>\n",
              "      <th>taster_name</th>\n",
              "      <th>taster_twitter_handle</th>\n",
              "      <th>title</th>\n",
              "      <th>variety</th>\n",
              "      <th>winery</th>\n",
              "    </tr>\n",
              "  </thead>\n",
              "  <tbody>\n",
              "    <tr>\n",
              "      <th>0</th>\n",
              "      <td>Italy</td>\n",
              "      <td>Aromas include tropical fruit, broom, brimston...</td>\n",
              "      <td>Vulkà Bianco</td>\n",
              "      <td>87</td>\n",
              "      <td>NaN</td>\n",
              "      <td>Sicily &amp; Sardinia</td>\n",
              "      <td>Etna</td>\n",
              "      <td>NaN</td>\n",
              "      <td>Kerin O’Keefe</td>\n",
              "      <td>@kerinokeefe</td>\n",
              "      <td>Nicosia 2013 Vulkà Bianco  (Etna)</td>\n",
              "      <td>White Blend</td>\n",
              "      <td>Nicosia</td>\n",
              "    </tr>\n",
              "    <tr>\n",
              "      <th>1</th>\n",
              "      <td>Portugal</td>\n",
              "      <td>This is ripe and fruity, a wine that is smooth...</td>\n",
              "      <td>Avidagos</td>\n",
              "      <td>87</td>\n",
              "      <td>15.0</td>\n",
              "      <td>Douro</td>\n",
              "      <td>NaN</td>\n",
              "      <td>NaN</td>\n",
              "      <td>Roger Voss</td>\n",
              "      <td>@vossroger</td>\n",
              "      <td>Quinta dos Avidagos 2011 Avidagos Red (Douro)</td>\n",
              "      <td>Portuguese Red</td>\n",
              "      <td>Quinta dos Avidagos</td>\n",
              "    </tr>\n",
              "    <tr>\n",
              "      <th>2</th>\n",
              "      <td>US</td>\n",
              "      <td>Tart and snappy, the flavors of lime flesh and...</td>\n",
              "      <td>NaN</td>\n",
              "      <td>87</td>\n",
              "      <td>14.0</td>\n",
              "      <td>Oregon</td>\n",
              "      <td>Willamette Valley</td>\n",
              "      <td>Willamette Valley</td>\n",
              "      <td>Paul Gregutt</td>\n",
              "      <td>@paulgwine</td>\n",
              "      <td>Rainstorm 2013 Pinot Gris (Willamette Valley)</td>\n",
              "      <td>Pinot Gris</td>\n",
              "      <td>Rainstorm</td>\n",
              "    </tr>\n",
              "    <tr>\n",
              "      <th>3</th>\n",
              "      <td>US</td>\n",
              "      <td>Pineapple rind, lemon pith and orange blossom ...</td>\n",
              "      <td>Reserve Late Harvest</td>\n",
              "      <td>87</td>\n",
              "      <td>13.0</td>\n",
              "      <td>Michigan</td>\n",
              "      <td>Lake Michigan Shore</td>\n",
              "      <td>NaN</td>\n",
              "      <td>Alexander Peartree</td>\n",
              "      <td>NaN</td>\n",
              "      <td>St. Julian 2013 Reserve Late Harvest Riesling ...</td>\n",
              "      <td>Riesling</td>\n",
              "      <td>St. Julian</td>\n",
              "    </tr>\n",
              "    <tr>\n",
              "      <th>4</th>\n",
              "      <td>US</td>\n",
              "      <td>Much like the regular bottling from 2012, this...</td>\n",
              "      <td>Vintner's Reserve Wild Child Block</td>\n",
              "      <td>87</td>\n",
              "      <td>65.0</td>\n",
              "      <td>Oregon</td>\n",
              "      <td>Willamette Valley</td>\n",
              "      <td>Willamette Valley</td>\n",
              "      <td>Paul Gregutt</td>\n",
              "      <td>@paulgwine</td>\n",
              "      <td>Sweet Cheeks 2012 Vintner's Reserve Wild Child...</td>\n",
              "      <td>Pinot Noir</td>\n",
              "      <td>Sweet Cheeks</td>\n",
              "    </tr>\n",
              "  </tbody>\n",
              "</table>\n",
              "</div>\n",
              "    <div class=\"colab-df-buttons\">\n",
              "\n",
              "  <div class=\"colab-df-container\">\n",
              "    <button class=\"colab-df-convert\" onclick=\"convertToInteractive('df-a2e3bcaa-381d-4c8e-a2f1-739d299efe03')\"\n",
              "            title=\"Convert this dataframe to an interactive table.\"\n",
              "            style=\"display:none;\">\n",
              "\n",
              "  <svg xmlns=\"http://www.w3.org/2000/svg\" height=\"24px\" viewBox=\"0 -960 960 960\">\n",
              "    <path d=\"M120-120v-720h720v720H120Zm60-500h600v-160H180v160Zm220 220h160v-160H400v160Zm0 220h160v-160H400v160ZM180-400h160v-160H180v160Zm440 0h160v-160H620v160ZM180-180h160v-160H180v160Zm440 0h160v-160H620v160Z\"/>\n",
              "  </svg>\n",
              "    </button>\n",
              "\n",
              "  <style>\n",
              "    .colab-df-container {\n",
              "      display:flex;\n",
              "      gap: 12px;\n",
              "    }\n",
              "\n",
              "    .colab-df-convert {\n",
              "      background-color: #E8F0FE;\n",
              "      border: none;\n",
              "      border-radius: 50%;\n",
              "      cursor: pointer;\n",
              "      display: none;\n",
              "      fill: #1967D2;\n",
              "      height: 32px;\n",
              "      padding: 0 0 0 0;\n",
              "      width: 32px;\n",
              "    }\n",
              "\n",
              "    .colab-df-convert:hover {\n",
              "      background-color: #E2EBFA;\n",
              "      box-shadow: 0px 1px 2px rgba(60, 64, 67, 0.3), 0px 1px 3px 1px rgba(60, 64, 67, 0.15);\n",
              "      fill: #174EA6;\n",
              "    }\n",
              "\n",
              "    .colab-df-buttons div {\n",
              "      margin-bottom: 4px;\n",
              "    }\n",
              "\n",
              "    [theme=dark] .colab-df-convert {\n",
              "      background-color: #3B4455;\n",
              "      fill: #D2E3FC;\n",
              "    }\n",
              "\n",
              "    [theme=dark] .colab-df-convert:hover {\n",
              "      background-color: #434B5C;\n",
              "      box-shadow: 0px 1px 3px 1px rgba(0, 0, 0, 0.15);\n",
              "      filter: drop-shadow(0px 1px 2px rgba(0, 0, 0, 0.3));\n",
              "      fill: #FFFFFF;\n",
              "    }\n",
              "  </style>\n",
              "\n",
              "    <script>\n",
              "      const buttonEl =\n",
              "        document.querySelector('#df-a2e3bcaa-381d-4c8e-a2f1-739d299efe03 button.colab-df-convert');\n",
              "      buttonEl.style.display =\n",
              "        google.colab.kernel.accessAllowed ? 'block' : 'none';\n",
              "\n",
              "      async function convertToInteractive(key) {\n",
              "        const element = document.querySelector('#df-a2e3bcaa-381d-4c8e-a2f1-739d299efe03');\n",
              "        const dataTable =\n",
              "          await google.colab.kernel.invokeFunction('convertToInteractive',\n",
              "                                                    [key], {});\n",
              "        if (!dataTable) return;\n",
              "\n",
              "        const docLinkHtml = 'Like what you see? Visit the ' +\n",
              "          '<a target=\"_blank\" href=https://colab.research.google.com/notebooks/data_table.ipynb>data table notebook</a>'\n",
              "          + ' to learn more about interactive tables.';\n",
              "        element.innerHTML = '';\n",
              "        dataTable['output_type'] = 'display_data';\n",
              "        await google.colab.output.renderOutput(dataTable, element);\n",
              "        const docLink = document.createElement('div');\n",
              "        docLink.innerHTML = docLinkHtml;\n",
              "        element.appendChild(docLink);\n",
              "      }\n",
              "    </script>\n",
              "  </div>\n",
              "\n",
              "\n",
              "<div id=\"df-ca7e8431-a6f3-4545-b30c-b6c5b07c496a\">\n",
              "  <button class=\"colab-df-quickchart\" onclick=\"quickchart('df-ca7e8431-a6f3-4545-b30c-b6c5b07c496a')\"\n",
              "            title=\"Suggest charts\"\n",
              "            style=\"display:none;\">\n",
              "\n",
              "<svg xmlns=\"http://www.w3.org/2000/svg\" height=\"24px\"viewBox=\"0 0 24 24\"\n",
              "     width=\"24px\">\n",
              "    <g>\n",
              "        <path d=\"M19 3H5c-1.1 0-2 .9-2 2v14c0 1.1.9 2 2 2h14c1.1 0 2-.9 2-2V5c0-1.1-.9-2-2-2zM9 17H7v-7h2v7zm4 0h-2V7h2v10zm4 0h-2v-4h2v4z\"/>\n",
              "    </g>\n",
              "</svg>\n",
              "  </button>\n",
              "\n",
              "<style>\n",
              "  .colab-df-quickchart {\n",
              "      --bg-color: #E8F0FE;\n",
              "      --fill-color: #1967D2;\n",
              "      --hover-bg-color: #E2EBFA;\n",
              "      --hover-fill-color: #174EA6;\n",
              "      --disabled-fill-color: #AAA;\n",
              "      --disabled-bg-color: #DDD;\n",
              "  }\n",
              "\n",
              "  [theme=dark] .colab-df-quickchart {\n",
              "      --bg-color: #3B4455;\n",
              "      --fill-color: #D2E3FC;\n",
              "      --hover-bg-color: #434B5C;\n",
              "      --hover-fill-color: #FFFFFF;\n",
              "      --disabled-bg-color: #3B4455;\n",
              "      --disabled-fill-color: #666;\n",
              "  }\n",
              "\n",
              "  .colab-df-quickchart {\n",
              "    background-color: var(--bg-color);\n",
              "    border: none;\n",
              "    border-radius: 50%;\n",
              "    cursor: pointer;\n",
              "    display: none;\n",
              "    fill: var(--fill-color);\n",
              "    height: 32px;\n",
              "    padding: 0;\n",
              "    width: 32px;\n",
              "  }\n",
              "\n",
              "  .colab-df-quickchart:hover {\n",
              "    background-color: var(--hover-bg-color);\n",
              "    box-shadow: 0 1px 2px rgba(60, 64, 67, 0.3), 0 1px 3px 1px rgba(60, 64, 67, 0.15);\n",
              "    fill: var(--button-hover-fill-color);\n",
              "  }\n",
              "\n",
              "  .colab-df-quickchart-complete:disabled,\n",
              "  .colab-df-quickchart-complete:disabled:hover {\n",
              "    background-color: var(--disabled-bg-color);\n",
              "    fill: var(--disabled-fill-color);\n",
              "    box-shadow: none;\n",
              "  }\n",
              "\n",
              "  .colab-df-spinner {\n",
              "    border: 2px solid var(--fill-color);\n",
              "    border-color: transparent;\n",
              "    border-bottom-color: var(--fill-color);\n",
              "    animation:\n",
              "      spin 1s steps(1) infinite;\n",
              "  }\n",
              "\n",
              "  @keyframes spin {\n",
              "    0% {\n",
              "      border-color: transparent;\n",
              "      border-bottom-color: var(--fill-color);\n",
              "      border-left-color: var(--fill-color);\n",
              "    }\n",
              "    20% {\n",
              "      border-color: transparent;\n",
              "      border-left-color: var(--fill-color);\n",
              "      border-top-color: var(--fill-color);\n",
              "    }\n",
              "    30% {\n",
              "      border-color: transparent;\n",
              "      border-left-color: var(--fill-color);\n",
              "      border-top-color: var(--fill-color);\n",
              "      border-right-color: var(--fill-color);\n",
              "    }\n",
              "    40% {\n",
              "      border-color: transparent;\n",
              "      border-right-color: var(--fill-color);\n",
              "      border-top-color: var(--fill-color);\n",
              "    }\n",
              "    60% {\n",
              "      border-color: transparent;\n",
              "      border-right-color: var(--fill-color);\n",
              "    }\n",
              "    80% {\n",
              "      border-color: transparent;\n",
              "      border-right-color: var(--fill-color);\n",
              "      border-bottom-color: var(--fill-color);\n",
              "    }\n",
              "    90% {\n",
              "      border-color: transparent;\n",
              "      border-bottom-color: var(--fill-color);\n",
              "    }\n",
              "  }\n",
              "</style>\n",
              "\n",
              "  <script>\n",
              "    async function quickchart(key) {\n",
              "      const quickchartButtonEl =\n",
              "        document.querySelector('#' + key + ' button');\n",
              "      quickchartButtonEl.disabled = true;  // To prevent multiple clicks.\n",
              "      quickchartButtonEl.classList.add('colab-df-spinner');\n",
              "      try {\n",
              "        const charts = await google.colab.kernel.invokeFunction(\n",
              "            'suggestCharts', [key], {});\n",
              "      } catch (error) {\n",
              "        console.error('Error during call to suggestCharts:', error);\n",
              "      }\n",
              "      quickchartButtonEl.classList.remove('colab-df-spinner');\n",
              "      quickchartButtonEl.classList.add('colab-df-quickchart-complete');\n",
              "    }\n",
              "    (() => {\n",
              "      let quickchartButtonEl =\n",
              "        document.querySelector('#df-ca7e8431-a6f3-4545-b30c-b6c5b07c496a button');\n",
              "      quickchartButtonEl.style.display =\n",
              "        google.colab.kernel.accessAllowed ? 'block' : 'none';\n",
              "    })();\n",
              "  </script>\n",
              "</div>\n",
              "\n",
              "    </div>\n",
              "  </div>\n"
            ],
            "application/vnd.google.colaboratory.intrinsic+json": {
              "type": "dataframe",
              "variable_name": "wine_reviews",
              "summary": "{\n  \"name\": \"wine_reviews\",\n  \"rows\": 74798,\n  \"fields\": [\n    {\n      \"column\": \"country\",\n      \"properties\": {\n        \"dtype\": \"category\",\n        \"num_unique_values\": 41,\n        \"samples\": [\n          \"Uruguay\",\n          \"Hungary\",\n          \"Australia\"\n        ],\n        \"semantic_type\": \"\",\n        \"description\": \"\"\n      }\n    },\n    {\n      \"column\": \"description\",\n      \"properties\": {\n        \"dtype\": \"string\",\n        \"num_unique_values\": 71244,\n        \"samples\": [\n          \"A white Bordeaux-style blend, crisp and edgy, with green fruit flavors sporting a citrusy kick. Young, tight and tart, it shows its alcohol on the angular finish.\",\n          \"This is a friendly fruity wine that has a soft texture and bright acidity. If it does miss a sense of place, it makes up for it with citrus and white fruit flavors that are so fresh. Drink now.\",\n          \"Fern\\u00e3o Pires and Arinto are blended together to yield this ripe and warm, while also poised wine. It has pear and creamed apple flavors that are shot through with orange-zest acidity. Ready to drink in six months.\"\n        ],\n        \"semantic_type\": \"\",\n        \"description\": \"\"\n      }\n    },\n    {\n      \"column\": \"designation\",\n      \"properties\": {\n        \"dtype\": \"category\",\n        \"num_unique_values\": 26481,\n        \"samples\": [\n          \"Deidesheimer Paradiesgarten Trocken\",\n          \"Sweetwater Vineyard\",\n          \"R\\u00e9serve du Propri\\u00e9taire\"\n        ],\n        \"semantic_type\": \"\",\n        \"description\": \"\"\n      }\n    },\n    {\n      \"column\": \"points\",\n      \"properties\": {\n        \"dtype\": \"number\",\n        \"std\": 2,\n        \"min\": 80,\n        \"max\": 100,\n        \"num_unique_values\": 21,\n        \"samples\": [\n          87,\n          93,\n          96\n        ],\n        \"semantic_type\": \"\",\n        \"description\": \"\"\n      }\n    },\n    {\n      \"column\": \"price\",\n      \"properties\": {\n        \"dtype\": \"number\",\n        \"std\": 38.87412879206527,\n        \"min\": 4.0,\n        \"max\": 2500.0,\n        \"num_unique_values\": 322,\n        \"samples\": [\n          87.0,\n          67.0,\n          2500.0\n        ],\n        \"semantic_type\": \"\",\n        \"description\": \"\"\n      }\n    },\n    {\n      \"column\": \"province\",\n      \"properties\": {\n        \"dtype\": \"category\",\n        \"num_unique_values\": 393,\n        \"samples\": [\n          \"\\u00d6sterreichischer Sekt\",\n          \"Sagrada Familia\",\n          \"Israel\"\n        ],\n        \"semantic_type\": \"\",\n        \"description\": \"\"\n      }\n    },\n    {\n      \"column\": \"region_1\",\n      \"properties\": {\n        \"dtype\": \"category\",\n        \"num_unique_values\": 1138,\n        \"samples\": [\n          \"Chianti Colli Fiorentini\",\n          \"Malvasia delle Lipari\",\n          \"Basilicata\"\n        ],\n        \"semantic_type\": \"\",\n        \"description\": \"\"\n      }\n    },\n    {\n      \"column\": \"region_2\",\n      \"properties\": {\n        \"dtype\": \"category\",\n        \"num_unique_values\": 17,\n        \"samples\": [\n          \"Willamette Valley\",\n          \"Napa\",\n          \"Central Valley\"\n        ],\n        \"semantic_type\": \"\",\n        \"description\": \"\"\n      }\n    },\n    {\n      \"column\": \"taster_name\",\n      \"properties\": {\n        \"dtype\": \"category\",\n        \"num_unique_values\": 19,\n        \"samples\": [\n          \"Kerin O\\u2019Keefe\",\n          \"Anna Lee C. Iijima\",\n          \"Anne Krebiehl\\u00a0MW\"\n        ],\n        \"semantic_type\": \"\",\n        \"description\": \"\"\n      }\n    },\n    {\n      \"column\": \"taster_twitter_handle\",\n      \"properties\": {\n        \"dtype\": \"category\",\n        \"num_unique_values\": 15,\n        \"samples\": [\n          \"@AnneInVino\",\n          \"@worldwineguys\",\n          \"@kerinokeefe\"\n        ],\n        \"semantic_type\": \"\",\n        \"description\": \"\"\n      }\n    },\n    {\n      \"column\": \"title\",\n      \"properties\": {\n        \"dtype\": \"string\",\n        \"num_unique_values\": 70785,\n        \"samples\": [\n          \"Auclair 2013 96 Cedars White (Columbia Valley (WA))\",\n          \"La Vis 2009 Ritratti M\\u00fcller-Thurgau (Trentino)\",\n          \"Roccafiore 2008 Prova d'Autore Red (Umbria)\"\n        ],\n        \"semantic_type\": \"\",\n        \"description\": \"\"\n      }\n    },\n    {\n      \"column\": \"variety\",\n      \"properties\": {\n        \"dtype\": \"category\",\n        \"num_unique_values\": 621,\n        \"samples\": [\n          \"Pinot Blanc\",\n          \"Pinot Blanc-Chardonnay\",\n          \"Muscat\"\n        ],\n        \"semantic_type\": \"\",\n        \"description\": \"\"\n      }\n    },\n    {\n      \"column\": \"winery\",\n      \"properties\": {\n        \"dtype\": \"category\",\n        \"num_unique_values\": 14169,\n        \"samples\": [\n          \"Communication Block\",\n          \"Bilton\",\n          \"Fleur\"\n        ],\n        \"semantic_type\": \"\",\n        \"description\": \"\"\n      }\n    }\n  ]\n}"
            }
          },
          "metadata": {},
          "execution_count": 44
        }
      ]
    },
    {
      "cell_type": "markdown",
      "metadata": {
        "id": "88lnEqVMqu7M"
      },
      "source": [
        "### 4 - ¿Cuántos valores faltantes hay en cada columna?"
      ]
    },
    {
      "cell_type": "code",
      "execution_count": 45,
      "metadata": {
        "colab": {
          "base_uri": "https://localhost:8080/"
        },
        "id": "p7R5QH2lqu7M",
        "outputId": "1bb37ea2-d6eb-4c34-c524-03af7b4131ef"
      },
      "outputs": [
        {
          "output_type": "stream",
          "name": "stdout",
          "text": [
            "<class 'pandas.core.frame.DataFrame'>\n",
            "RangeIndex: 74798 entries, 0 to 74797\n",
            "Data columns (total 13 columns):\n",
            " #   Column                 Non-Null Count  Dtype  \n",
            "---  ------                 --------------  -----  \n",
            " 0   country                74763 non-null  object \n",
            " 1   description            74798 non-null  object \n",
            " 2   designation            53185 non-null  object \n",
            " 3   points                 74798 non-null  int64  \n",
            " 4   price                  69519 non-null  float64\n",
            " 5   province               74762 non-null  object \n",
            " 6   region_1               62590 non-null  object \n",
            " 7   region_2               28756 non-null  object \n",
            " 8   taster_name            59512 non-null  object \n",
            " 9   taster_twitter_handle  56752 non-null  object \n",
            " 10  title                  74797 non-null  object \n",
            " 11  variety                74797 non-null  object \n",
            " 12  winery                 74797 non-null  object \n",
            "dtypes: float64(1), int64(1), object(11)\n",
            "memory usage: 7.4+ MB\n"
          ]
        }
      ],
      "source": [
        "wine_reviews.info()"
      ]
    },
    {
      "cell_type": "markdown",
      "source": [
        "*`.info()`*  me sirve para obtener un resumen general del DataFrame, en base a la informacion anterior, vemos :\n",
        "\n",
        "- Tamaño del dataset: El dataset cuenta con un total de 129,971 filas y 13 columnas.\n",
        "\n",
        "-  Datos faltantes (valores NaN): Algunas columnas tienen valores faltantes (null)\n",
        "\n",
        "- Uso de memoria : El dataset ocupa 12.9 MB en memoria.\n",
        "\n",
        "- Tipos de datos :\n",
        "\n",
        "        11 columnas son de tipo object (cadenas de texto).\n",
        "\n",
        "        1 columna (price) es de tipo float64 (valores numéricos decimales).  \n",
        "\n",
        "        1 columna (points) es de tipo int64 (valores numéricos enteros).\n",
        "\n",
        "\n"
      ],
      "metadata": {
        "id": "2pjur25Ox0Ex"
      }
    },
    {
      "cell_type": "markdown",
      "source": [
        "cantidad de valores nulos (NaN) en cada columna del DataFrame"
      ],
      "metadata": {
        "id": "xDgNuWJvzv8n"
      }
    },
    {
      "cell_type": "code",
      "execution_count": 46,
      "metadata": {
        "colab": {
          "base_uri": "https://localhost:8080/"
        },
        "id": "kKM0LBCdqu7N",
        "outputId": "15e282c3-6bd6-4f69-8aaa-f55fba839e62"
      },
      "outputs": [
        {
          "output_type": "stream",
          "name": "stdout",
          "text": [
            "country                     35\n",
            "description                  0\n",
            "designation              21613\n",
            "points                       0\n",
            "price                     5279\n",
            "province                    36\n",
            "region_1                 12208\n",
            "region_2                 46042\n",
            "taster_name              15286\n",
            "taster_twitter_handle    18046\n",
            "title                        1\n",
            "variety                      1\n",
            "winery                       1\n",
            "dtype: int64\n"
          ]
        }
      ],
      "source": [
        "# cantidad de valores nulos por columna\n",
        "\n",
        "print(wine_reviews.isna().sum())"
      ]
    },
    {
      "cell_type": "markdown",
      "metadata": {
        "id": "RIllksmWqu7N"
      },
      "source": [
        "¿Cuál o cuáles son los vinos con más valores faltantes?"
      ]
    },
    {
      "cell_type": "code",
      "execution_count": 47,
      "metadata": {
        "colab": {
          "base_uri": "https://localhost:8080/"
        },
        "id": "ili3IOkEqu7N",
        "outputId": "d9edac60-9812-4906-f0fd-5b4c21a438c8"
      },
      "outputs": [
        {
          "output_type": "execute_result",
          "data": {
            "text/plain": [
              "74797"
            ]
          },
          "metadata": {},
          "execution_count": 47
        }
      ],
      "source": [
        "wine_reviews.isna().sum(axis = 1).idxmax()"
      ]
    },
    {
      "cell_type": "code",
      "source": [
        "wine_reviews.loc[74797].isna().sum()\n"
      ],
      "metadata": {
        "colab": {
          "base_uri": "https://localhost:8080/"
        },
        "id": "VZ82ej740VLz",
        "outputId": "3a8f5edf-a12a-414f-e3bb-0b779a3089fb"
      },
      "execution_count": 48,
      "outputs": [
        {
          "output_type": "execute_result",
          "data": {
            "text/plain": [
              "8"
            ]
          },
          "metadata": {},
          "execution_count": 48
        }
      ]
    },
    {
      "cell_type": "markdown",
      "source": [
        "Resumiendo:\n",
        "\n",
        " de las NN filas que tiene el datatset, la fila 74797\n",
        "**tiene la mayor cantidad de datos faltantes, en este caso 8 de las 13 columnas son nulos.**\n",
        "\n",
        "Para ver cuales son esas columnas con los valores nulos, hacemos:"
      ],
      "metadata": {
        "id": "OWtjQO742dao"
      }
    },
    {
      "cell_type": "code",
      "source": [
        "# vemos rápidamente cuáles de los valores en la fila 86909 son nulos (True) y cuáles no lo son (False).\n",
        "wine_reviews.loc[74797].isna()\n"
      ],
      "metadata": {
        "colab": {
          "base_uri": "https://localhost:8080/",
          "height": 492
        },
        "id": "DJqfMXvu2dqn",
        "outputId": "2ffcab4a-11b7-42dc-f00a-9c6d231e1067"
      },
      "execution_count": 49,
      "outputs": [
        {
          "output_type": "execute_result",
          "data": {
            "text/plain": [
              "country                  False\n",
              "description              False\n",
              "designation              False\n",
              "points                   False\n",
              "price                    False\n",
              "province                  True\n",
              "region_1                  True\n",
              "region_2                  True\n",
              "taster_name               True\n",
              "taster_twitter_handle     True\n",
              "title                     True\n",
              "variety                   True\n",
              "winery                    True\n",
              "Name: 74797, dtype: bool"
            ],
            "text/html": [
              "<div>\n",
              "<style scoped>\n",
              "    .dataframe tbody tr th:only-of-type {\n",
              "        vertical-align: middle;\n",
              "    }\n",
              "\n",
              "    .dataframe tbody tr th {\n",
              "        vertical-align: top;\n",
              "    }\n",
              "\n",
              "    .dataframe thead th {\n",
              "        text-align: right;\n",
              "    }\n",
              "</style>\n",
              "<table border=\"1\" class=\"dataframe\">\n",
              "  <thead>\n",
              "    <tr style=\"text-align: right;\">\n",
              "      <th></th>\n",
              "      <th>74797</th>\n",
              "    </tr>\n",
              "  </thead>\n",
              "  <tbody>\n",
              "    <tr>\n",
              "      <th>country</th>\n",
              "      <td>False</td>\n",
              "    </tr>\n",
              "    <tr>\n",
              "      <th>description</th>\n",
              "      <td>False</td>\n",
              "    </tr>\n",
              "    <tr>\n",
              "      <th>designation</th>\n",
              "      <td>False</td>\n",
              "    </tr>\n",
              "    <tr>\n",
              "      <th>points</th>\n",
              "      <td>False</td>\n",
              "    </tr>\n",
              "    <tr>\n",
              "      <th>price</th>\n",
              "      <td>False</td>\n",
              "    </tr>\n",
              "    <tr>\n",
              "      <th>province</th>\n",
              "      <td>True</td>\n",
              "    </tr>\n",
              "    <tr>\n",
              "      <th>region_1</th>\n",
              "      <td>True</td>\n",
              "    </tr>\n",
              "    <tr>\n",
              "      <th>region_2</th>\n",
              "      <td>True</td>\n",
              "    </tr>\n",
              "    <tr>\n",
              "      <th>taster_name</th>\n",
              "      <td>True</td>\n",
              "    </tr>\n",
              "    <tr>\n",
              "      <th>taster_twitter_handle</th>\n",
              "      <td>True</td>\n",
              "    </tr>\n",
              "    <tr>\n",
              "      <th>title</th>\n",
              "      <td>True</td>\n",
              "    </tr>\n",
              "    <tr>\n",
              "      <th>variety</th>\n",
              "      <td>True</td>\n",
              "    </tr>\n",
              "    <tr>\n",
              "      <th>winery</th>\n",
              "      <td>True</td>\n",
              "    </tr>\n",
              "  </tbody>\n",
              "</table>\n",
              "</div><br><label><b>dtype:</b> bool</label>"
            ]
          },
          "metadata": {},
          "execution_count": 49
        }
      ]
    },
    {
      "cell_type": "code",
      "execution_count": 50,
      "metadata": {
        "id": "xMGkSIi7qu7N",
        "outputId": "31bf2e8f-320a-4485-8fcb-ae7870b43277",
        "colab": {
          "base_uri": "https://localhost:8080/",
          "height": 492
        }
      },
      "outputs": [
        {
          "output_type": "execute_result",
          "data": {
            "text/plain": [
              "country                                                          Argentina\n",
              "description              A strong blast of oak comes across as resin an...\n",
              "designation                                                Maipu Vineyards\n",
              "points                                                                  83\n",
              "price                                                                 12.0\n",
              "province                                                               NaN\n",
              "region_1                                                               NaN\n",
              "region_2                                                               NaN\n",
              "taster_name                                                            NaN\n",
              "taster_twitter_handle                                                  NaN\n",
              "title                                                                  NaN\n",
              "variety                                                                NaN\n",
              "winery                                                                 NaN\n",
              "Name: 74797, dtype: object"
            ],
            "text/html": [
              "<div>\n",
              "<style scoped>\n",
              "    .dataframe tbody tr th:only-of-type {\n",
              "        vertical-align: middle;\n",
              "    }\n",
              "\n",
              "    .dataframe tbody tr th {\n",
              "        vertical-align: top;\n",
              "    }\n",
              "\n",
              "    .dataframe thead th {\n",
              "        text-align: right;\n",
              "    }\n",
              "</style>\n",
              "<table border=\"1\" class=\"dataframe\">\n",
              "  <thead>\n",
              "    <tr style=\"text-align: right;\">\n",
              "      <th></th>\n",
              "      <th>74797</th>\n",
              "    </tr>\n",
              "  </thead>\n",
              "  <tbody>\n",
              "    <tr>\n",
              "      <th>country</th>\n",
              "      <td>Argentina</td>\n",
              "    </tr>\n",
              "    <tr>\n",
              "      <th>description</th>\n",
              "      <td>A strong blast of oak comes across as resin an...</td>\n",
              "    </tr>\n",
              "    <tr>\n",
              "      <th>designation</th>\n",
              "      <td>Maipu Vineyards</td>\n",
              "    </tr>\n",
              "    <tr>\n",
              "      <th>points</th>\n",
              "      <td>83</td>\n",
              "    </tr>\n",
              "    <tr>\n",
              "      <th>price</th>\n",
              "      <td>12.0</td>\n",
              "    </tr>\n",
              "    <tr>\n",
              "      <th>province</th>\n",
              "      <td>NaN</td>\n",
              "    </tr>\n",
              "    <tr>\n",
              "      <th>region_1</th>\n",
              "      <td>NaN</td>\n",
              "    </tr>\n",
              "    <tr>\n",
              "      <th>region_2</th>\n",
              "      <td>NaN</td>\n",
              "    </tr>\n",
              "    <tr>\n",
              "      <th>taster_name</th>\n",
              "      <td>NaN</td>\n",
              "    </tr>\n",
              "    <tr>\n",
              "      <th>taster_twitter_handle</th>\n",
              "      <td>NaN</td>\n",
              "    </tr>\n",
              "    <tr>\n",
              "      <th>title</th>\n",
              "      <td>NaN</td>\n",
              "    </tr>\n",
              "    <tr>\n",
              "      <th>variety</th>\n",
              "      <td>NaN</td>\n",
              "    </tr>\n",
              "    <tr>\n",
              "      <th>winery</th>\n",
              "      <td>NaN</td>\n",
              "    </tr>\n",
              "  </tbody>\n",
              "</table>\n",
              "</div><br><label><b>dtype:</b> object</label>"
            ]
          },
          "metadata": {},
          "execution_count": 50
        }
      ],
      "source": [
        "# para obtener una vision mas completa de la fila mas \"vacia\", hacemos:\n",
        "\n",
        "wine_reviews.iloc[wine_reviews.isna().sum(axis = 1).idxmax()]"
      ]
    },
    {
      "cell_type": "markdown",
      "source": [
        "Al tener esta información, me ayuda a decidir que quiero hacer:\n",
        "\n",
        "    - valores faltantes (llenarlos con algún valor como la media, la mediana, un valor predeterminado, etc.).\n",
        "\n",
        "    - Eliminar la fila si crees que tiene demasiados datos faltantes."
      ],
      "metadata": {
        "id": "yvd3_74B47VQ"
      }
    },
    {
      "cell_type": "markdown",
      "metadata": {
        "id": "E2xxBC1Jqu7O"
      },
      "source": [
        "¿cuáles son el peor y el mejor vino?  \n",
        "\n",
        "    Imprimir en pantalla sus características y su descripción.\n",
        "\n",
        " ¿Hay un solo vino que sea el mejor o el peor?"
      ]
    },
    {
      "cell_type": "code",
      "execution_count": 51,
      "metadata": {
        "id": "KPVCsyIlqu7O",
        "outputId": "4177e93b-66fa-4e97-c852-12fcaf8de918",
        "colab": {
          "base_uri": "https://localhost:8080/",
          "height": 492
        }
      },
      "outputs": [
        {
          "output_type": "execute_result",
          "data": {
            "text/plain": [
              "country                                                          Australia\n",
              "description              This wine contains some material over 100 year...\n",
              "designation                                                           Rare\n",
              "points                                                                 100\n",
              "price                                                                350.0\n",
              "province                                                          Victoria\n",
              "region_1                                                        Rutherglen\n",
              "region_2                                                               NaN\n",
              "taster_name                                                 Joe Czerwinski\n",
              "taster_twitter_handle                                               @JoeCz\n",
              "title                    Chambers Rosewood Vineyards NV Rare Muscat (Ru...\n",
              "variety                                                             Muscat\n",
              "winery                                         Chambers Rosewood Vineyards\n",
              "Name: 345, dtype: object"
            ],
            "text/html": [
              "<div>\n",
              "<style scoped>\n",
              "    .dataframe tbody tr th:only-of-type {\n",
              "        vertical-align: middle;\n",
              "    }\n",
              "\n",
              "    .dataframe tbody tr th {\n",
              "        vertical-align: top;\n",
              "    }\n",
              "\n",
              "    .dataframe thead th {\n",
              "        text-align: right;\n",
              "    }\n",
              "</style>\n",
              "<table border=\"1\" class=\"dataframe\">\n",
              "  <thead>\n",
              "    <tr style=\"text-align: right;\">\n",
              "      <th></th>\n",
              "      <th>345</th>\n",
              "    </tr>\n",
              "  </thead>\n",
              "  <tbody>\n",
              "    <tr>\n",
              "      <th>country</th>\n",
              "      <td>Australia</td>\n",
              "    </tr>\n",
              "    <tr>\n",
              "      <th>description</th>\n",
              "      <td>This wine contains some material over 100 year...</td>\n",
              "    </tr>\n",
              "    <tr>\n",
              "      <th>designation</th>\n",
              "      <td>Rare</td>\n",
              "    </tr>\n",
              "    <tr>\n",
              "      <th>points</th>\n",
              "      <td>100</td>\n",
              "    </tr>\n",
              "    <tr>\n",
              "      <th>price</th>\n",
              "      <td>350.0</td>\n",
              "    </tr>\n",
              "    <tr>\n",
              "      <th>province</th>\n",
              "      <td>Victoria</td>\n",
              "    </tr>\n",
              "    <tr>\n",
              "      <th>region_1</th>\n",
              "      <td>Rutherglen</td>\n",
              "    </tr>\n",
              "    <tr>\n",
              "      <th>region_2</th>\n",
              "      <td>NaN</td>\n",
              "    </tr>\n",
              "    <tr>\n",
              "      <th>taster_name</th>\n",
              "      <td>Joe Czerwinski</td>\n",
              "    </tr>\n",
              "    <tr>\n",
              "      <th>taster_twitter_handle</th>\n",
              "      <td>@JoeCz</td>\n",
              "    </tr>\n",
              "    <tr>\n",
              "      <th>title</th>\n",
              "      <td>Chambers Rosewood Vineyards NV Rare Muscat (Ru...</td>\n",
              "    </tr>\n",
              "    <tr>\n",
              "      <th>variety</th>\n",
              "      <td>Muscat</td>\n",
              "    </tr>\n",
              "    <tr>\n",
              "      <th>winery</th>\n",
              "      <td>Chambers Rosewood Vineyards</td>\n",
              "    </tr>\n",
              "  </tbody>\n",
              "</table>\n",
              "</div><br><label><b>dtype:</b> object</label>"
            ]
          },
          "metadata": {},
          "execution_count": 51
        }
      ],
      "source": [
        "wine_reviews.loc[wine_reviews.points.idxmax()]"
      ]
    },
    {
      "cell_type": "markdown",
      "source": [
        "Este comando:\n",
        "\n",
        "**wine_reviews.points**\n",
        "→ Obtiene la columna points, que contiene las puntuaciones de los vinos.\n",
        "\n",
        "**idxmax()**\n",
        "→ Encuentra el índice de la fila donde points tiene su valor máximo.\n",
        "→ En este caso, el índice resultante es 345.\n",
        "\n",
        "**wine_reviews.loc[345]**\n",
        "→ Extrae toda la fila con índice 345, que es el vino con la puntuación más alta (100)."
      ],
      "metadata": {
        "id": "hm8hPk-z0Rdp"
      }
    },
    {
      "cell_type": "code",
      "execution_count": 25,
      "metadata": {
        "id": "T8njPIVmqu7O",
        "outputId": "335d5195-dd19-426e-bde3-05c06bce8c46",
        "colab": {
          "base_uri": "https://localhost:8080/",
          "height": 70
        }
      },
      "outputs": [
        {
          "output_type": "execute_result",
          "data": {
            "text/plain": [
              "\"This wine contains some material over 100 years old, but shows no signs of fragility. Instead, it's concentrated through age and should hold in the bottle indefinitely. It's dark coffee-brown in color, with delectable aromas of rancio, dried fig, molasses and black tea, yet despite enormous concentration avoids excessive weight. And it's amazingly complex and fresh on the nearly endless finish.\""
            ],
            "application/vnd.google.colaboratory.intrinsic+json": {
              "type": "string"
            }
          },
          "metadata": {},
          "execution_count": 25
        }
      ],
      "source": [
        "wine_reviews.loc[wine_reviews.points.idxmax()]['description']"
      ]
    },
    {
      "cell_type": "code",
      "execution_count": 26,
      "metadata": {
        "id": "MzVfFF5Dqu7O",
        "outputId": "5f337249-cfe7-47dd-fba7-40db9c376c18",
        "colab": {
          "base_uri": "https://localhost:8080/",
          "height": 492
        }
      },
      "outputs": [
        {
          "output_type": "execute_result",
          "data": {
            "text/plain": [
              "country                                                              Chile\n",
              "description              Aromas of pumpkin, squash and corn chips are s...\n",
              "designation                                                   Gran Reserva\n",
              "points                                                                  80\n",
              "price                                                                 19.0\n",
              "province                                                      Leyda Valley\n",
              "region_1                                                               NaN\n",
              "region_2                                                               NaN\n",
              "taster_name                                              Michael Schachner\n",
              "taster_twitter_handle                                          @wineschach\n",
              "title                    Viña Tarapacá 2015 Gran Reserva Chardonnay (Le...\n",
              "variety                                                         Chardonnay\n",
              "winery                                                       Viña Tarapacá\n",
              "Name: 344, dtype: object"
            ],
            "text/html": [
              "<div>\n",
              "<style scoped>\n",
              "    .dataframe tbody tr th:only-of-type {\n",
              "        vertical-align: middle;\n",
              "    }\n",
              "\n",
              "    .dataframe tbody tr th {\n",
              "        vertical-align: top;\n",
              "    }\n",
              "\n",
              "    .dataframe thead th {\n",
              "        text-align: right;\n",
              "    }\n",
              "</style>\n",
              "<table border=\"1\" class=\"dataframe\">\n",
              "  <thead>\n",
              "    <tr style=\"text-align: right;\">\n",
              "      <th></th>\n",
              "      <th>344</th>\n",
              "    </tr>\n",
              "  </thead>\n",
              "  <tbody>\n",
              "    <tr>\n",
              "      <th>country</th>\n",
              "      <td>Chile</td>\n",
              "    </tr>\n",
              "    <tr>\n",
              "      <th>description</th>\n",
              "      <td>Aromas of pumpkin, squash and corn chips are s...</td>\n",
              "    </tr>\n",
              "    <tr>\n",
              "      <th>designation</th>\n",
              "      <td>Gran Reserva</td>\n",
              "    </tr>\n",
              "    <tr>\n",
              "      <th>points</th>\n",
              "      <td>80</td>\n",
              "    </tr>\n",
              "    <tr>\n",
              "      <th>price</th>\n",
              "      <td>19.0</td>\n",
              "    </tr>\n",
              "    <tr>\n",
              "      <th>province</th>\n",
              "      <td>Leyda Valley</td>\n",
              "    </tr>\n",
              "    <tr>\n",
              "      <th>region_1</th>\n",
              "      <td>NaN</td>\n",
              "    </tr>\n",
              "    <tr>\n",
              "      <th>region_2</th>\n",
              "      <td>NaN</td>\n",
              "    </tr>\n",
              "    <tr>\n",
              "      <th>taster_name</th>\n",
              "      <td>Michael Schachner</td>\n",
              "    </tr>\n",
              "    <tr>\n",
              "      <th>taster_twitter_handle</th>\n",
              "      <td>@wineschach</td>\n",
              "    </tr>\n",
              "    <tr>\n",
              "      <th>title</th>\n",
              "      <td>Viña Tarapacá 2015 Gran Reserva Chardonnay (Le...</td>\n",
              "    </tr>\n",
              "    <tr>\n",
              "      <th>variety</th>\n",
              "      <td>Chardonnay</td>\n",
              "    </tr>\n",
              "    <tr>\n",
              "      <th>winery</th>\n",
              "      <td>Viña Tarapacá</td>\n",
              "    </tr>\n",
              "  </tbody>\n",
              "</table>\n",
              "</div><br><label><b>dtype:</b> object</label>"
            ]
          },
          "metadata": {},
          "execution_count": 26
        }
      ],
      "source": [
        "wine_reviews.loc[wine_reviews.points.idxmin()]"
      ]
    },
    {
      "cell_type": "code",
      "execution_count": 27,
      "metadata": {
        "id": "QRYgm9gAqu7O",
        "outputId": "d95957de-ca17-494d-be50-a0cf0becaae8",
        "colab": {
          "base_uri": "https://localhost:8080/",
          "height": 53
        }
      },
      "outputs": [
        {
          "output_type": "execute_result",
          "data": {
            "text/plain": [
              "\"Aromas of pumpkin, squash and corn chips are stale and not inviting. There's an acceptable mouthfeel to this weird, unbalanced Chardonnay along with flavors of spiced squash, mealy apple and sautéed root vegetables.\""
            ],
            "application/vnd.google.colaboratory.intrinsic+json": {
              "type": "string"
            }
          },
          "metadata": {},
          "execution_count": 27
        }
      ],
      "source": [
        "wine_reviews.loc[wine_reviews.points.idxmin()]['description']"
      ]
    },
    {
      "cell_type": "markdown",
      "metadata": {
        "id": "kHNBszqFqu7O"
      },
      "source": [
        "## 2) Trabajando con datos faltantes\n",
        "\n",
        "Antes de realizar cada una de las siguientes consignas, vamos a copiar el dataset en una nueva variable, así mantemos el dataset original sin modificar.\n",
        "\n",
        "1. Descartar aquellas filas que tengan algún valor faltante. ¿Cuántas instancias quedan en el dataset?"
      ]
    },
    {
      "cell_type": "code",
      "execution_count": 28,
      "metadata": {
        "id": "0wT2SIGTqu7O"
      },
      "outputs": [],
      "source": [
        "wine_reviews_copia = wine_reviews.copy()"
      ]
    },
    {
      "cell_type": "markdown",
      "source": [
        "✔ Sin .copy() → Ambas variables apuntan al mismo objeto (se modifican mutuamente).\n",
        "\n",
        "✔ Con .copy() → Se crea un objeto nuevo e independiente.\n",
        "\n",
        "Es una buena práctica usar .copy() cuando necesitas modificar datos sin afectar el original"
      ],
      "metadata": {
        "id": "zdg7qcPp3R6s"
      }
    },
    {
      "cell_type": "code",
      "source": [
        "# Mostramos la cantidad de filas y columnas del dataset\n",
        "print(\"Dimensiones del dataset (filas, columnas):\", wine_reviews.shape)"
      ],
      "metadata": {
        "colab": {
          "base_uri": "https://localhost:8080/"
        },
        "id": "tMMVPl8sggLx",
        "outputId": "f917a440-adae-437b-dd43-a4ee725f6ea1"
      },
      "execution_count": 29,
      "outputs": [
        {
          "output_type": "stream",
          "name": "stdout",
          "text": [
            "Dimensiones del dataset (filas, columnas): (74798, 13)\n"
          ]
        }
      ]
    },
    {
      "cell_type": "code",
      "execution_count": 30,
      "metadata": {
        "id": "gLrNgSM2qu7O",
        "outputId": "dda64ffc-531e-4e4c-b9b9-12b07d0ad6f2",
        "colab": {
          "base_uri": "https://localhost:8080/"
        }
      },
      "outputs": [
        {
          "output_type": "execute_result",
          "data": {
            "text/plain": [
              "(12697, 13)"
            ]
          },
          "metadata": {},
          "execution_count": 30
        }
      ],
      "source": [
        "# Elimina todas las filas que contienen al menos un valor nulo (NaN)\n",
        "# inplace=True hace que la eliminación se aplique directamente sobre wine_reviews_copia, sin necesidad de asignarlo a una nueva variable.\n",
        "\n",
        "wine_reviews_copia.dropna(inplace = True)\n",
        "wine_reviews_copia.shape"
      ]
    },
    {
      "cell_type": "markdown",
      "metadata": {
        "id": "9n0g6wnBqu7P"
      },
      "source": [
        "2. Descartar aquellas columnas que tengan algún valor faltante. ¿Cuántos y cuáles atributos quedaron?"
      ]
    },
    {
      "cell_type": "code",
      "execution_count": 31,
      "metadata": {
        "id": "I3Tbhh3Nqu7P"
      },
      "outputs": [],
      "source": [
        "wine_reviews_copia = wine_reviews.copy()"
      ]
    },
    {
      "cell_type": "code",
      "execution_count": 32,
      "metadata": {
        "id": "uTWGNrD5qu7P",
        "outputId": "90ffb7c5-fa70-4995-ee96-837eaa0af19c",
        "colab": {
          "base_uri": "https://localhost:8080/"
        }
      },
      "outputs": [
        {
          "output_type": "execute_result",
          "data": {
            "text/plain": [
              "(74798, 2)"
            ]
          },
          "metadata": {},
          "execution_count": 32
        }
      ],
      "source": [
        "# Elimina todas las columnas que tienen al menos un valor NaN.\n",
        "\n",
        "wine_reviews_copia.dropna(axis = 1, inplace = True)\n",
        "wine_reviews_copia.shape"
      ]
    },
    {
      "cell_type": "code",
      "execution_count": 33,
      "metadata": {
        "id": "DKBc3QHuqu7P",
        "outputId": "759249dc-f815-4ce6-ae76-8d7799d62695",
        "colab": {
          "base_uri": "https://localhost:8080/",
          "height": 206
        }
      },
      "outputs": [
        {
          "output_type": "execute_result",
          "data": {
            "text/plain": [
              "                                         description  points\n",
              "0  Aromas include tropical fruit, broom, brimston...      87\n",
              "1  This is ripe and fruity, a wine that is smooth...      87\n",
              "2  Tart and snappy, the flavors of lime flesh and...      87\n",
              "3  Pineapple rind, lemon pith and orange blossom ...      87\n",
              "4  Much like the regular bottling from 2012, this...      87"
            ],
            "text/html": [
              "\n",
              "  <div id=\"df-bab44da3-f226-4f30-a9fd-386fd4d815a1\" class=\"colab-df-container\">\n",
              "    <div>\n",
              "<style scoped>\n",
              "    .dataframe tbody tr th:only-of-type {\n",
              "        vertical-align: middle;\n",
              "    }\n",
              "\n",
              "    .dataframe tbody tr th {\n",
              "        vertical-align: top;\n",
              "    }\n",
              "\n",
              "    .dataframe thead th {\n",
              "        text-align: right;\n",
              "    }\n",
              "</style>\n",
              "<table border=\"1\" class=\"dataframe\">\n",
              "  <thead>\n",
              "    <tr style=\"text-align: right;\">\n",
              "      <th></th>\n",
              "      <th>description</th>\n",
              "      <th>points</th>\n",
              "    </tr>\n",
              "  </thead>\n",
              "  <tbody>\n",
              "    <tr>\n",
              "      <th>0</th>\n",
              "      <td>Aromas include tropical fruit, broom, brimston...</td>\n",
              "      <td>87</td>\n",
              "    </tr>\n",
              "    <tr>\n",
              "      <th>1</th>\n",
              "      <td>This is ripe and fruity, a wine that is smooth...</td>\n",
              "      <td>87</td>\n",
              "    </tr>\n",
              "    <tr>\n",
              "      <th>2</th>\n",
              "      <td>Tart and snappy, the flavors of lime flesh and...</td>\n",
              "      <td>87</td>\n",
              "    </tr>\n",
              "    <tr>\n",
              "      <th>3</th>\n",
              "      <td>Pineapple rind, lemon pith and orange blossom ...</td>\n",
              "      <td>87</td>\n",
              "    </tr>\n",
              "    <tr>\n",
              "      <th>4</th>\n",
              "      <td>Much like the regular bottling from 2012, this...</td>\n",
              "      <td>87</td>\n",
              "    </tr>\n",
              "  </tbody>\n",
              "</table>\n",
              "</div>\n",
              "    <div class=\"colab-df-buttons\">\n",
              "\n",
              "  <div class=\"colab-df-container\">\n",
              "    <button class=\"colab-df-convert\" onclick=\"convertToInteractive('df-bab44da3-f226-4f30-a9fd-386fd4d815a1')\"\n",
              "            title=\"Convert this dataframe to an interactive table.\"\n",
              "            style=\"display:none;\">\n",
              "\n",
              "  <svg xmlns=\"http://www.w3.org/2000/svg\" height=\"24px\" viewBox=\"0 -960 960 960\">\n",
              "    <path d=\"M120-120v-720h720v720H120Zm60-500h600v-160H180v160Zm220 220h160v-160H400v160Zm0 220h160v-160H400v160ZM180-400h160v-160H180v160Zm440 0h160v-160H620v160ZM180-180h160v-160H180v160Zm440 0h160v-160H620v160Z\"/>\n",
              "  </svg>\n",
              "    </button>\n",
              "\n",
              "  <style>\n",
              "    .colab-df-container {\n",
              "      display:flex;\n",
              "      gap: 12px;\n",
              "    }\n",
              "\n",
              "    .colab-df-convert {\n",
              "      background-color: #E8F0FE;\n",
              "      border: none;\n",
              "      border-radius: 50%;\n",
              "      cursor: pointer;\n",
              "      display: none;\n",
              "      fill: #1967D2;\n",
              "      height: 32px;\n",
              "      padding: 0 0 0 0;\n",
              "      width: 32px;\n",
              "    }\n",
              "\n",
              "    .colab-df-convert:hover {\n",
              "      background-color: #E2EBFA;\n",
              "      box-shadow: 0px 1px 2px rgba(60, 64, 67, 0.3), 0px 1px 3px 1px rgba(60, 64, 67, 0.15);\n",
              "      fill: #174EA6;\n",
              "    }\n",
              "\n",
              "    .colab-df-buttons div {\n",
              "      margin-bottom: 4px;\n",
              "    }\n",
              "\n",
              "    [theme=dark] .colab-df-convert {\n",
              "      background-color: #3B4455;\n",
              "      fill: #D2E3FC;\n",
              "    }\n",
              "\n",
              "    [theme=dark] .colab-df-convert:hover {\n",
              "      background-color: #434B5C;\n",
              "      box-shadow: 0px 1px 3px 1px rgba(0, 0, 0, 0.15);\n",
              "      filter: drop-shadow(0px 1px 2px rgba(0, 0, 0, 0.3));\n",
              "      fill: #FFFFFF;\n",
              "    }\n",
              "  </style>\n",
              "\n",
              "    <script>\n",
              "      const buttonEl =\n",
              "        document.querySelector('#df-bab44da3-f226-4f30-a9fd-386fd4d815a1 button.colab-df-convert');\n",
              "      buttonEl.style.display =\n",
              "        google.colab.kernel.accessAllowed ? 'block' : 'none';\n",
              "\n",
              "      async function convertToInteractive(key) {\n",
              "        const element = document.querySelector('#df-bab44da3-f226-4f30-a9fd-386fd4d815a1');\n",
              "        const dataTable =\n",
              "          await google.colab.kernel.invokeFunction('convertToInteractive',\n",
              "                                                    [key], {});\n",
              "        if (!dataTable) return;\n",
              "\n",
              "        const docLinkHtml = 'Like what you see? Visit the ' +\n",
              "          '<a target=\"_blank\" href=https://colab.research.google.com/notebooks/data_table.ipynb>data table notebook</a>'\n",
              "          + ' to learn more about interactive tables.';\n",
              "        element.innerHTML = '';\n",
              "        dataTable['output_type'] = 'display_data';\n",
              "        await google.colab.output.renderOutput(dataTable, element);\n",
              "        const docLink = document.createElement('div');\n",
              "        docLink.innerHTML = docLinkHtml;\n",
              "        element.appendChild(docLink);\n",
              "      }\n",
              "    </script>\n",
              "  </div>\n",
              "\n",
              "\n",
              "<div id=\"df-bc9d33d4-63d0-4021-8914-b60f06a6a6f7\">\n",
              "  <button class=\"colab-df-quickchart\" onclick=\"quickchart('df-bc9d33d4-63d0-4021-8914-b60f06a6a6f7')\"\n",
              "            title=\"Suggest charts\"\n",
              "            style=\"display:none;\">\n",
              "\n",
              "<svg xmlns=\"http://www.w3.org/2000/svg\" height=\"24px\"viewBox=\"0 0 24 24\"\n",
              "     width=\"24px\">\n",
              "    <g>\n",
              "        <path d=\"M19 3H5c-1.1 0-2 .9-2 2v14c0 1.1.9 2 2 2h14c1.1 0 2-.9 2-2V5c0-1.1-.9-2-2-2zM9 17H7v-7h2v7zm4 0h-2V7h2v10zm4 0h-2v-4h2v4z\"/>\n",
              "    </g>\n",
              "</svg>\n",
              "  </button>\n",
              "\n",
              "<style>\n",
              "  .colab-df-quickchart {\n",
              "      --bg-color: #E8F0FE;\n",
              "      --fill-color: #1967D2;\n",
              "      --hover-bg-color: #E2EBFA;\n",
              "      --hover-fill-color: #174EA6;\n",
              "      --disabled-fill-color: #AAA;\n",
              "      --disabled-bg-color: #DDD;\n",
              "  }\n",
              "\n",
              "  [theme=dark] .colab-df-quickchart {\n",
              "      --bg-color: #3B4455;\n",
              "      --fill-color: #D2E3FC;\n",
              "      --hover-bg-color: #434B5C;\n",
              "      --hover-fill-color: #FFFFFF;\n",
              "      --disabled-bg-color: #3B4455;\n",
              "      --disabled-fill-color: #666;\n",
              "  }\n",
              "\n",
              "  .colab-df-quickchart {\n",
              "    background-color: var(--bg-color);\n",
              "    border: none;\n",
              "    border-radius: 50%;\n",
              "    cursor: pointer;\n",
              "    display: none;\n",
              "    fill: var(--fill-color);\n",
              "    height: 32px;\n",
              "    padding: 0;\n",
              "    width: 32px;\n",
              "  }\n",
              "\n",
              "  .colab-df-quickchart:hover {\n",
              "    background-color: var(--hover-bg-color);\n",
              "    box-shadow: 0 1px 2px rgba(60, 64, 67, 0.3), 0 1px 3px 1px rgba(60, 64, 67, 0.15);\n",
              "    fill: var(--button-hover-fill-color);\n",
              "  }\n",
              "\n",
              "  .colab-df-quickchart-complete:disabled,\n",
              "  .colab-df-quickchart-complete:disabled:hover {\n",
              "    background-color: var(--disabled-bg-color);\n",
              "    fill: var(--disabled-fill-color);\n",
              "    box-shadow: none;\n",
              "  }\n",
              "\n",
              "  .colab-df-spinner {\n",
              "    border: 2px solid var(--fill-color);\n",
              "    border-color: transparent;\n",
              "    border-bottom-color: var(--fill-color);\n",
              "    animation:\n",
              "      spin 1s steps(1) infinite;\n",
              "  }\n",
              "\n",
              "  @keyframes spin {\n",
              "    0% {\n",
              "      border-color: transparent;\n",
              "      border-bottom-color: var(--fill-color);\n",
              "      border-left-color: var(--fill-color);\n",
              "    }\n",
              "    20% {\n",
              "      border-color: transparent;\n",
              "      border-left-color: var(--fill-color);\n",
              "      border-top-color: var(--fill-color);\n",
              "    }\n",
              "    30% {\n",
              "      border-color: transparent;\n",
              "      border-left-color: var(--fill-color);\n",
              "      border-top-color: var(--fill-color);\n",
              "      border-right-color: var(--fill-color);\n",
              "    }\n",
              "    40% {\n",
              "      border-color: transparent;\n",
              "      border-right-color: var(--fill-color);\n",
              "      border-top-color: var(--fill-color);\n",
              "    }\n",
              "    60% {\n",
              "      border-color: transparent;\n",
              "      border-right-color: var(--fill-color);\n",
              "    }\n",
              "    80% {\n",
              "      border-color: transparent;\n",
              "      border-right-color: var(--fill-color);\n",
              "      border-bottom-color: var(--fill-color);\n",
              "    }\n",
              "    90% {\n",
              "      border-color: transparent;\n",
              "      border-bottom-color: var(--fill-color);\n",
              "    }\n",
              "  }\n",
              "</style>\n",
              "\n",
              "  <script>\n",
              "    async function quickchart(key) {\n",
              "      const quickchartButtonEl =\n",
              "        document.querySelector('#' + key + ' button');\n",
              "      quickchartButtonEl.disabled = true;  // To prevent multiple clicks.\n",
              "      quickchartButtonEl.classList.add('colab-df-spinner');\n",
              "      try {\n",
              "        const charts = await google.colab.kernel.invokeFunction(\n",
              "            'suggestCharts', [key], {});\n",
              "      } catch (error) {\n",
              "        console.error('Error during call to suggestCharts:', error);\n",
              "      }\n",
              "      quickchartButtonEl.classList.remove('colab-df-spinner');\n",
              "      quickchartButtonEl.classList.add('colab-df-quickchart-complete');\n",
              "    }\n",
              "    (() => {\n",
              "      let quickchartButtonEl =\n",
              "        document.querySelector('#df-bc9d33d4-63d0-4021-8914-b60f06a6a6f7 button');\n",
              "      quickchartButtonEl.style.display =\n",
              "        google.colab.kernel.accessAllowed ? 'block' : 'none';\n",
              "    })();\n",
              "  </script>\n",
              "</div>\n",
              "\n",
              "    </div>\n",
              "  </div>\n"
            ],
            "application/vnd.google.colaboratory.intrinsic+json": {
              "type": "dataframe",
              "variable_name": "wine_reviews_copia",
              "summary": "{\n  \"name\": \"wine_reviews_copia\",\n  \"rows\": 74798,\n  \"fields\": [\n    {\n      \"column\": \"description\",\n      \"properties\": {\n        \"dtype\": \"string\",\n        \"num_unique_values\": 71244,\n        \"samples\": [\n          \"A white Bordeaux-style blend, crisp and edgy, with green fruit flavors sporting a citrusy kick. Young, tight and tart, it shows its alcohol on the angular finish.\",\n          \"This is a friendly fruity wine that has a soft texture and bright acidity. If it does miss a sense of place, it makes up for it with citrus and white fruit flavors that are so fresh. Drink now.\",\n          \"Fern\\u00e3o Pires and Arinto are blended together to yield this ripe and warm, while also poised wine. It has pear and creamed apple flavors that are shot through with orange-zest acidity. Ready to drink in six months.\"\n        ],\n        \"semantic_type\": \"\",\n        \"description\": \"\"\n      }\n    },\n    {\n      \"column\": \"points\",\n      \"properties\": {\n        \"dtype\": \"number\",\n        \"std\": 2,\n        \"min\": 80,\n        \"max\": 100,\n        \"num_unique_values\": 21,\n        \"samples\": [\n          87,\n          93,\n          96\n        ],\n        \"semantic_type\": \"\",\n        \"description\": \"\"\n      }\n    }\n  ]\n}"
            }
          },
          "metadata": {},
          "execution_count": 33
        }
      ],
      "source": [
        "wine_reviews_copia.head()"
      ]
    },
    {
      "cell_type": "markdown",
      "metadata": {
        "id": "FGMSLux4qu7P"
      },
      "source": [
        "Pueden observar que descartar sin ningún criterio puede hacer que perdamos muchos datos.\n",
        "\n",
        "Tratemos de mejorar un poco los criterios con los que descartamos."
      ]
    },
    {
      "cell_type": "markdown",
      "metadata": {
        "id": "eNaVSmJbqu7P"
      },
      "source": [
        "3. Descartar aquellas filas que tengan más de tres valores faltantes. ¿Cuántas instancias quedaron?"
      ]
    },
    {
      "cell_type": "code",
      "execution_count": 34,
      "metadata": {
        "id": "YqDozqRUqu7P"
      },
      "outputs": [],
      "source": [
        "wine_reviews_copia = wine_reviews.copy()"
      ]
    },
    {
      "cell_type": "code",
      "execution_count": 35,
      "metadata": {
        "id": "uUoOW0I2qu7P",
        "outputId": "eb84115a-2d6d-476c-a2ee-2548fa89c25a",
        "colab": {
          "base_uri": "https://localhost:8080/"
        }
      },
      "outputs": [
        {
          "output_type": "execute_result",
          "data": {
            "text/plain": [
              "(74798, 13)"
            ]
          },
          "metadata": {},
          "execution_count": 35
        }
      ],
      "source": [
        "wine_reviews_copia.dropna(inplace = True, thresh=3)\n",
        "wine_reviews_copia.shape"
      ]
    },
    {
      "cell_type": "markdown",
      "metadata": {
        "id": "bdKM4U6gqu7P"
      },
      "source": [
        "4. Descartar aquellas columnas que tengan más del 50% de valores faltantes. ¿Cuántos y cuáles atributos quedaron? Luego, descartar las instancias que tengan algún valor faltante."
      ]
    },
    {
      "cell_type": "code",
      "execution_count": 36,
      "metadata": {
        "id": "bnpkIUiwqu7P"
      },
      "outputs": [],
      "source": [
        "wine_reviews_copia = wine_reviews.copy()"
      ]
    },
    {
      "cell_type": "code",
      "execution_count": 37,
      "metadata": {
        "id": "rNKWvKxxqu7P",
        "outputId": "f74fd3ac-b1d4-49b1-b7cc-97b15b4f19ee",
        "colab": {
          "base_uri": "https://localhost:8080/"
        }
      },
      "outputs": [
        {
          "output_type": "execute_result",
          "data": {
            "text/plain": [
              "(74798, 12)"
            ]
          },
          "metadata": {},
          "execution_count": 37
        }
      ],
      "source": [
        "wine_reviews_copia.dropna(axis = 1, inplace = True, thresh=wine_reviews_copia.shape[0]*0.5)\n",
        "wine_reviews_copia.shape"
      ]
    },
    {
      "cell_type": "code",
      "execution_count": 38,
      "metadata": {
        "id": "PFW_L9wrqu7Q",
        "outputId": "d55ea49f-c02a-4910-cd81-ecf0ae3f0084",
        "colab": {
          "base_uri": "https://localhost:8080/"
        }
      },
      "outputs": [
        {
          "output_type": "execute_result",
          "data": {
            "text/plain": [
              "(29830, 12)"
            ]
          },
          "metadata": {},
          "execution_count": 38
        }
      ],
      "source": [
        "wine_reviews_copia.dropna(inplace = True)\n",
        "wine_reviews_copia.shape"
      ]
    },
    {
      "cell_type": "code",
      "execution_count": 39,
      "metadata": {
        "id": "k8KKmOViqu7Q",
        "outputId": "82a93471-7719-4f96-afaa-ef39241e0def",
        "colab": {
          "base_uri": "https://localhost:8080/",
          "height": 310
        }
      },
      "outputs": [
        {
          "output_type": "execute_result",
          "data": {
            "text/plain": [
              "   country                                        description  \\\n",
              "4       US  Much like the regular bottling from 2012, this...   \n",
              "5    Spain  Blackberry and raspberry aromas show a typical...   \n",
              "6    Italy  Here's a bright, informal red that opens with ...   \n",
              "9   France  This has great depth of flavor with its fresh ...   \n",
              "10      US  Soft, supple plum envelopes an oaky structure ...   \n",
              "\n",
              "                           designation  points  price           province  \\\n",
              "4   Vintner's Reserve Wild Child Block      87   65.0             Oregon   \n",
              "5                         Ars In Vitro      87   15.0     Northern Spain   \n",
              "6                              Belsito      87   16.0  Sicily & Sardinia   \n",
              "9                          Les Natures      87   27.0             Alsace   \n",
              "10                      Mountain Cuvée      87   19.0         California   \n",
              "\n",
              "             region_1        taster_name taster_twitter_handle  \\\n",
              "4   Willamette Valley       Paul Gregutt           @paulgwine    \n",
              "5             Navarra  Michael Schachner           @wineschach   \n",
              "6            Vittoria      Kerin O’Keefe          @kerinokeefe   \n",
              "9              Alsace         Roger Voss            @vossroger   \n",
              "10        Napa Valley     Virginie Boone               @vboone   \n",
              "\n",
              "                                                title             variety  \\\n",
              "4   Sweet Cheeks 2012 Vintner's Reserve Wild Child...          Pinot Noir   \n",
              "5   Tandem 2011 Ars In Vitro Tempranillo-Merlot (N...  Tempranillo-Merlot   \n",
              "6    Terre di Giurfo 2013 Belsito Frappato (Vittoria)            Frappato   \n",
              "9   Jean-Baptiste Adam 2012 Les Natures Pinot Gris...          Pinot Gris   \n",
              "10  Kirkland Signature 2011 Mountain Cuvée Caberne...  Cabernet Sauvignon   \n",
              "\n",
              "                winery  \n",
              "4         Sweet Cheeks  \n",
              "5               Tandem  \n",
              "6      Terre di Giurfo  \n",
              "9   Jean-Baptiste Adam  \n",
              "10  Kirkland Signature  "
            ],
            "text/html": [
              "\n",
              "  <div id=\"df-c8105af1-3a87-46ef-b11c-fb8afcb0b681\" class=\"colab-df-container\">\n",
              "    <div>\n",
              "<style scoped>\n",
              "    .dataframe tbody tr th:only-of-type {\n",
              "        vertical-align: middle;\n",
              "    }\n",
              "\n",
              "    .dataframe tbody tr th {\n",
              "        vertical-align: top;\n",
              "    }\n",
              "\n",
              "    .dataframe thead th {\n",
              "        text-align: right;\n",
              "    }\n",
              "</style>\n",
              "<table border=\"1\" class=\"dataframe\">\n",
              "  <thead>\n",
              "    <tr style=\"text-align: right;\">\n",
              "      <th></th>\n",
              "      <th>country</th>\n",
              "      <th>description</th>\n",
              "      <th>designation</th>\n",
              "      <th>points</th>\n",
              "      <th>price</th>\n",
              "      <th>province</th>\n",
              "      <th>region_1</th>\n",
              "      <th>taster_name</th>\n",
              "      <th>taster_twitter_handle</th>\n",
              "      <th>title</th>\n",
              "      <th>variety</th>\n",
              "      <th>winery</th>\n",
              "    </tr>\n",
              "  </thead>\n",
              "  <tbody>\n",
              "    <tr>\n",
              "      <th>4</th>\n",
              "      <td>US</td>\n",
              "      <td>Much like the regular bottling from 2012, this...</td>\n",
              "      <td>Vintner's Reserve Wild Child Block</td>\n",
              "      <td>87</td>\n",
              "      <td>65.0</td>\n",
              "      <td>Oregon</td>\n",
              "      <td>Willamette Valley</td>\n",
              "      <td>Paul Gregutt</td>\n",
              "      <td>@paulgwine</td>\n",
              "      <td>Sweet Cheeks 2012 Vintner's Reserve Wild Child...</td>\n",
              "      <td>Pinot Noir</td>\n",
              "      <td>Sweet Cheeks</td>\n",
              "    </tr>\n",
              "    <tr>\n",
              "      <th>5</th>\n",
              "      <td>Spain</td>\n",
              "      <td>Blackberry and raspberry aromas show a typical...</td>\n",
              "      <td>Ars In Vitro</td>\n",
              "      <td>87</td>\n",
              "      <td>15.0</td>\n",
              "      <td>Northern Spain</td>\n",
              "      <td>Navarra</td>\n",
              "      <td>Michael Schachner</td>\n",
              "      <td>@wineschach</td>\n",
              "      <td>Tandem 2011 Ars In Vitro Tempranillo-Merlot (N...</td>\n",
              "      <td>Tempranillo-Merlot</td>\n",
              "      <td>Tandem</td>\n",
              "    </tr>\n",
              "    <tr>\n",
              "      <th>6</th>\n",
              "      <td>Italy</td>\n",
              "      <td>Here's a bright, informal red that opens with ...</td>\n",
              "      <td>Belsito</td>\n",
              "      <td>87</td>\n",
              "      <td>16.0</td>\n",
              "      <td>Sicily &amp; Sardinia</td>\n",
              "      <td>Vittoria</td>\n",
              "      <td>Kerin O’Keefe</td>\n",
              "      <td>@kerinokeefe</td>\n",
              "      <td>Terre di Giurfo 2013 Belsito Frappato (Vittoria)</td>\n",
              "      <td>Frappato</td>\n",
              "      <td>Terre di Giurfo</td>\n",
              "    </tr>\n",
              "    <tr>\n",
              "      <th>9</th>\n",
              "      <td>France</td>\n",
              "      <td>This has great depth of flavor with its fresh ...</td>\n",
              "      <td>Les Natures</td>\n",
              "      <td>87</td>\n",
              "      <td>27.0</td>\n",
              "      <td>Alsace</td>\n",
              "      <td>Alsace</td>\n",
              "      <td>Roger Voss</td>\n",
              "      <td>@vossroger</td>\n",
              "      <td>Jean-Baptiste Adam 2012 Les Natures Pinot Gris...</td>\n",
              "      <td>Pinot Gris</td>\n",
              "      <td>Jean-Baptiste Adam</td>\n",
              "    </tr>\n",
              "    <tr>\n",
              "      <th>10</th>\n",
              "      <td>US</td>\n",
              "      <td>Soft, supple plum envelopes an oaky structure ...</td>\n",
              "      <td>Mountain Cuvée</td>\n",
              "      <td>87</td>\n",
              "      <td>19.0</td>\n",
              "      <td>California</td>\n",
              "      <td>Napa Valley</td>\n",
              "      <td>Virginie Boone</td>\n",
              "      <td>@vboone</td>\n",
              "      <td>Kirkland Signature 2011 Mountain Cuvée Caberne...</td>\n",
              "      <td>Cabernet Sauvignon</td>\n",
              "      <td>Kirkland Signature</td>\n",
              "    </tr>\n",
              "  </tbody>\n",
              "</table>\n",
              "</div>\n",
              "    <div class=\"colab-df-buttons\">\n",
              "\n",
              "  <div class=\"colab-df-container\">\n",
              "    <button class=\"colab-df-convert\" onclick=\"convertToInteractive('df-c8105af1-3a87-46ef-b11c-fb8afcb0b681')\"\n",
              "            title=\"Convert this dataframe to an interactive table.\"\n",
              "            style=\"display:none;\">\n",
              "\n",
              "  <svg xmlns=\"http://www.w3.org/2000/svg\" height=\"24px\" viewBox=\"0 -960 960 960\">\n",
              "    <path d=\"M120-120v-720h720v720H120Zm60-500h600v-160H180v160Zm220 220h160v-160H400v160Zm0 220h160v-160H400v160ZM180-400h160v-160H180v160Zm440 0h160v-160H620v160ZM180-180h160v-160H180v160Zm440 0h160v-160H620v160Z\"/>\n",
              "  </svg>\n",
              "    </button>\n",
              "\n",
              "  <style>\n",
              "    .colab-df-container {\n",
              "      display:flex;\n",
              "      gap: 12px;\n",
              "    }\n",
              "\n",
              "    .colab-df-convert {\n",
              "      background-color: #E8F0FE;\n",
              "      border: none;\n",
              "      border-radius: 50%;\n",
              "      cursor: pointer;\n",
              "      display: none;\n",
              "      fill: #1967D2;\n",
              "      height: 32px;\n",
              "      padding: 0 0 0 0;\n",
              "      width: 32px;\n",
              "    }\n",
              "\n",
              "    .colab-df-convert:hover {\n",
              "      background-color: #E2EBFA;\n",
              "      box-shadow: 0px 1px 2px rgba(60, 64, 67, 0.3), 0px 1px 3px 1px rgba(60, 64, 67, 0.15);\n",
              "      fill: #174EA6;\n",
              "    }\n",
              "\n",
              "    .colab-df-buttons div {\n",
              "      margin-bottom: 4px;\n",
              "    }\n",
              "\n",
              "    [theme=dark] .colab-df-convert {\n",
              "      background-color: #3B4455;\n",
              "      fill: #D2E3FC;\n",
              "    }\n",
              "\n",
              "    [theme=dark] .colab-df-convert:hover {\n",
              "      background-color: #434B5C;\n",
              "      box-shadow: 0px 1px 3px 1px rgba(0, 0, 0, 0.15);\n",
              "      filter: drop-shadow(0px 1px 2px rgba(0, 0, 0, 0.3));\n",
              "      fill: #FFFFFF;\n",
              "    }\n",
              "  </style>\n",
              "\n",
              "    <script>\n",
              "      const buttonEl =\n",
              "        document.querySelector('#df-c8105af1-3a87-46ef-b11c-fb8afcb0b681 button.colab-df-convert');\n",
              "      buttonEl.style.display =\n",
              "        google.colab.kernel.accessAllowed ? 'block' : 'none';\n",
              "\n",
              "      async function convertToInteractive(key) {\n",
              "        const element = document.querySelector('#df-c8105af1-3a87-46ef-b11c-fb8afcb0b681');\n",
              "        const dataTable =\n",
              "          await google.colab.kernel.invokeFunction('convertToInteractive',\n",
              "                                                    [key], {});\n",
              "        if (!dataTable) return;\n",
              "\n",
              "        const docLinkHtml = 'Like what you see? Visit the ' +\n",
              "          '<a target=\"_blank\" href=https://colab.research.google.com/notebooks/data_table.ipynb>data table notebook</a>'\n",
              "          + ' to learn more about interactive tables.';\n",
              "        element.innerHTML = '';\n",
              "        dataTable['output_type'] = 'display_data';\n",
              "        await google.colab.output.renderOutput(dataTable, element);\n",
              "        const docLink = document.createElement('div');\n",
              "        docLink.innerHTML = docLinkHtml;\n",
              "        element.appendChild(docLink);\n",
              "      }\n",
              "    </script>\n",
              "  </div>\n",
              "\n",
              "\n",
              "<div id=\"df-64e7388e-24c8-473b-8265-2e3ddab33ad8\">\n",
              "  <button class=\"colab-df-quickchart\" onclick=\"quickchart('df-64e7388e-24c8-473b-8265-2e3ddab33ad8')\"\n",
              "            title=\"Suggest charts\"\n",
              "            style=\"display:none;\">\n",
              "\n",
              "<svg xmlns=\"http://www.w3.org/2000/svg\" height=\"24px\"viewBox=\"0 0 24 24\"\n",
              "     width=\"24px\">\n",
              "    <g>\n",
              "        <path d=\"M19 3H5c-1.1 0-2 .9-2 2v14c0 1.1.9 2 2 2h14c1.1 0 2-.9 2-2V5c0-1.1-.9-2-2-2zM9 17H7v-7h2v7zm4 0h-2V7h2v10zm4 0h-2v-4h2v4z\"/>\n",
              "    </g>\n",
              "</svg>\n",
              "  </button>\n",
              "\n",
              "<style>\n",
              "  .colab-df-quickchart {\n",
              "      --bg-color: #E8F0FE;\n",
              "      --fill-color: #1967D2;\n",
              "      --hover-bg-color: #E2EBFA;\n",
              "      --hover-fill-color: #174EA6;\n",
              "      --disabled-fill-color: #AAA;\n",
              "      --disabled-bg-color: #DDD;\n",
              "  }\n",
              "\n",
              "  [theme=dark] .colab-df-quickchart {\n",
              "      --bg-color: #3B4455;\n",
              "      --fill-color: #D2E3FC;\n",
              "      --hover-bg-color: #434B5C;\n",
              "      --hover-fill-color: #FFFFFF;\n",
              "      --disabled-bg-color: #3B4455;\n",
              "      --disabled-fill-color: #666;\n",
              "  }\n",
              "\n",
              "  .colab-df-quickchart {\n",
              "    background-color: var(--bg-color);\n",
              "    border: none;\n",
              "    border-radius: 50%;\n",
              "    cursor: pointer;\n",
              "    display: none;\n",
              "    fill: var(--fill-color);\n",
              "    height: 32px;\n",
              "    padding: 0;\n",
              "    width: 32px;\n",
              "  }\n",
              "\n",
              "  .colab-df-quickchart:hover {\n",
              "    background-color: var(--hover-bg-color);\n",
              "    box-shadow: 0 1px 2px rgba(60, 64, 67, 0.3), 0 1px 3px 1px rgba(60, 64, 67, 0.15);\n",
              "    fill: var(--button-hover-fill-color);\n",
              "  }\n",
              "\n",
              "  .colab-df-quickchart-complete:disabled,\n",
              "  .colab-df-quickchart-complete:disabled:hover {\n",
              "    background-color: var(--disabled-bg-color);\n",
              "    fill: var(--disabled-fill-color);\n",
              "    box-shadow: none;\n",
              "  }\n",
              "\n",
              "  .colab-df-spinner {\n",
              "    border: 2px solid var(--fill-color);\n",
              "    border-color: transparent;\n",
              "    border-bottom-color: var(--fill-color);\n",
              "    animation:\n",
              "      spin 1s steps(1) infinite;\n",
              "  }\n",
              "\n",
              "  @keyframes spin {\n",
              "    0% {\n",
              "      border-color: transparent;\n",
              "      border-bottom-color: var(--fill-color);\n",
              "      border-left-color: var(--fill-color);\n",
              "    }\n",
              "    20% {\n",
              "      border-color: transparent;\n",
              "      border-left-color: var(--fill-color);\n",
              "      border-top-color: var(--fill-color);\n",
              "    }\n",
              "    30% {\n",
              "      border-color: transparent;\n",
              "      border-left-color: var(--fill-color);\n",
              "      border-top-color: var(--fill-color);\n",
              "      border-right-color: var(--fill-color);\n",
              "    }\n",
              "    40% {\n",
              "      border-color: transparent;\n",
              "      border-right-color: var(--fill-color);\n",
              "      border-top-color: var(--fill-color);\n",
              "    }\n",
              "    60% {\n",
              "      border-color: transparent;\n",
              "      border-right-color: var(--fill-color);\n",
              "    }\n",
              "    80% {\n",
              "      border-color: transparent;\n",
              "      border-right-color: var(--fill-color);\n",
              "      border-bottom-color: var(--fill-color);\n",
              "    }\n",
              "    90% {\n",
              "      border-color: transparent;\n",
              "      border-bottom-color: var(--fill-color);\n",
              "    }\n",
              "  }\n",
              "</style>\n",
              "\n",
              "  <script>\n",
              "    async function quickchart(key) {\n",
              "      const quickchartButtonEl =\n",
              "        document.querySelector('#' + key + ' button');\n",
              "      quickchartButtonEl.disabled = true;  // To prevent multiple clicks.\n",
              "      quickchartButtonEl.classList.add('colab-df-spinner');\n",
              "      try {\n",
              "        const charts = await google.colab.kernel.invokeFunction(\n",
              "            'suggestCharts', [key], {});\n",
              "      } catch (error) {\n",
              "        console.error('Error during call to suggestCharts:', error);\n",
              "      }\n",
              "      quickchartButtonEl.classList.remove('colab-df-spinner');\n",
              "      quickchartButtonEl.classList.add('colab-df-quickchart-complete');\n",
              "    }\n",
              "    (() => {\n",
              "      let quickchartButtonEl =\n",
              "        document.querySelector('#df-64e7388e-24c8-473b-8265-2e3ddab33ad8 button');\n",
              "      quickchartButtonEl.style.display =\n",
              "        google.colab.kernel.accessAllowed ? 'block' : 'none';\n",
              "    })();\n",
              "  </script>\n",
              "</div>\n",
              "\n",
              "    </div>\n",
              "  </div>\n"
            ],
            "application/vnd.google.colaboratory.intrinsic+json": {
              "type": "dataframe",
              "variable_name": "wine_reviews_copia",
              "summary": "{\n  \"name\": \"wine_reviews_copia\",\n  \"rows\": 29830,\n  \"fields\": [\n    {\n      \"column\": \"country\",\n      \"properties\": {\n        \"dtype\": \"category\",\n        \"num_unique_values\": 7,\n        \"samples\": [\n          \"US\",\n          \"Spain\",\n          \"Australia\"\n        ],\n        \"semantic_type\": \"\",\n        \"description\": \"\"\n      }\n    },\n    {\n      \"column\": \"description\",\n      \"properties\": {\n        \"dtype\": \"string\",\n        \"num_unique_values\": 28275,\n        \"samples\": [\n          \"The Farm Winery takes a lighter, fresher approach to Paso Robles fruit, which works well in this bottling of 80% Grenache and 20% Syrah. Bramble, dried strawberry, star anise and cola aromas lead to a round and easygoing palate, with cooked cranberry, rose, slate and licorice flavors.\",\n          \"Aromas of lavender and ripe dark fruit abound on the nose, while forest floor and pine tar add nuance. The flavors are full of deep plum and black cherry, wrapped around an elegant butter-herb sauce quality.\",\n          \"Without any new oak or lees stirring, this wine's sole focus is on the fruit. Pineapple, melon and peach notes are pure and striking, supported by just hints of vanilla and cream. This medium-bodied Chardonnay finishes in a flurry of tangerine and lime.\"\n        ],\n        \"semantic_type\": \"\",\n        \"description\": \"\"\n      }\n    },\n    {\n      \"column\": \"designation\",\n      \"properties\": {\n        \"dtype\": \"string\",\n        \"num_unique_values\": 15924,\n        \"samples\": [\n          \"Piedra Negra Alta Colecci\\u00f3n Pinot Gris\",\n          \"Bois Seguin\",\n          \"Hook Vineyard\"\n        ],\n        \"semantic_type\": \"\",\n        \"description\": \"\"\n      }\n    },\n    {\n      \"column\": \"points\",\n      \"properties\": {\n        \"dtype\": \"number\",\n        \"std\": 2,\n        \"min\": 80,\n        \"max\": 100,\n        \"num_unique_values\": 21,\n        \"samples\": [\n          87,\n          83,\n          94\n        ],\n        \"semantic_type\": \"\",\n        \"description\": \"\"\n      }\n    },\n    {\n      \"column\": \"price\",\n      \"properties\": {\n        \"dtype\": \"number\",\n        \"std\": 36.189118294602515,\n        \"min\": 4.0,\n        \"max\": 850.0,\n        \"num_unique_values\": 253,\n        \"samples\": [\n          595.0,\n          13.0,\n          180.0\n        ],\n        \"semantic_type\": \"\",\n        \"description\": \"\"\n      }\n    },\n    {\n      \"column\": \"province\",\n      \"properties\": {\n        \"dtype\": \"category\",\n        \"num_unique_values\": 56,\n        \"samples\": [\n          \"Oregon\",\n          \"Other\",\n          \"Languedoc-Roussillon\"\n        ],\n        \"semantic_type\": \"\",\n        \"description\": \"\"\n      }\n    },\n    {\n      \"column\": \"region_1\",\n      \"properties\": {\n        \"dtype\": \"category\",\n        \"num_unique_values\": 898,\n        \"samples\": [\n          \"Rosso di Montepulciano\",\n          \"Sagrantino di Montefalco\",\n          \"Faug\\u00e8res\"\n        ],\n        \"semantic_type\": \"\",\n        \"description\": \"\"\n      }\n    },\n    {\n      \"column\": \"taster_name\",\n      \"properties\": {\n        \"dtype\": \"category\",\n        \"num_unique_values\": 14,\n        \"samples\": [\n          \"Anne Krebiehl\\u00a0MW\",\n          \"Lauren Buzzeo\",\n          \"Paul Gregutt\"\n        ],\n        \"semantic_type\": \"\",\n        \"description\": \"\"\n      }\n    },\n    {\n      \"column\": \"taster_twitter_handle\",\n      \"properties\": {\n        \"dtype\": \"category\",\n        \"num_unique_values\": 14,\n        \"samples\": [\n          \"@AnneInVino\",\n          \"@laurbuzz\",\n          \"@paulgwine\\u00a0\"\n        ],\n        \"semantic_type\": \"\",\n        \"description\": \"\"\n      }\n    },\n    {\n      \"column\": \"title\",\n      \"properties\": {\n        \"dtype\": \"string\",\n        \"num_unique_values\": 28048,\n        \"samples\": [\n          \"Telaya 2014 Boushey Vineyard Cabernet Sauvignon (Yakima Valley)\",\n          \"De Mour 2008 Prince Rubis  (Bordeaux)\",\n          \"Kiona 2012 Late Harvest Riesling (Columbia Valley (WA))\"\n        ],\n        \"semantic_type\": \"\",\n        \"description\": \"\"\n      }\n    },\n    {\n      \"column\": \"variety\",\n      \"properties\": {\n        \"dtype\": \"category\",\n        \"num_unique_values\": 375,\n        \"samples\": [\n          \"Merlot-Malbec\",\n          \"Riesling\",\n          \"Champagne Blend\"\n        ],\n        \"semantic_type\": \"\",\n        \"description\": \"\"\n      }\n    },\n    {\n      \"column\": \"winery\",\n      \"properties\": {\n        \"dtype\": \"category\",\n        \"num_unique_values\": 7043,\n        \"samples\": [\n          \"Le Vigne\",\n          \"Narrow Gate\",\n          \"Gy\\u00e9jacquot Fr\\u00e8res\"\n        ],\n        \"semantic_type\": \"\",\n        \"description\": \"\"\n      }\n    }\n  ]\n}"
            }
          },
          "metadata": {},
          "execution_count": 39
        }
      ],
      "source": [
        "wine_reviews_copia.head()"
      ]
    },
    {
      "cell_type": "markdown",
      "metadata": {
        "id": "5PHgddwTqu7Q"
      },
      "source": [
        "**Moraleja**: el orden importa. Primero, podemos descartar aquellas columnas con muchos valores faltantes y después descartar aquellas instancias con valores faltantes.\n",
        "\n",
        "**Para pensar:** ¿de qué tipo son las variables del dataset?¿Es lo mismo un valor faltante en `price` que en `variety`?\n",
        "\n"
      ]
    },
    {
      "cell_type": "markdown",
      "metadata": {
        "id": "u6WiWZEJqu7Q"
      },
      "source": [
        "## 3) Imputación de Valores Faltantes\n",
        "\n",
        "La columna `price` tiene alrededor de 9 mil valores faltantes, pero no queremos descartarla ni descartar instancias por el simple hecho de que no sepamos su precio. Esto se debe a que el precio tiene mucha información y, eventualmente, puede ser la columna que querramos predecir. Además, no son tantos valores faltantes si consideramos la cantidad de instancias que tiene el dataset. Entonces:\n",
        "\n",
        "\n",
        "1. Calcular el valor medio, moda, mediana y la desviación estándar de la columna `price`."
      ]
    },
    {
      "cell_type": "code",
      "execution_count": 52,
      "metadata": {
        "id": "_U2gDE2xqu7Q",
        "outputId": "74727bce-7e66-45b9-c997-b7abee6a5cb1",
        "colab": {
          "base_uri": "https://localhost:8080/"
        }
      },
      "outputs": [
        {
          "output_type": "stream",
          "name": "stdout",
          "text": [
            "35.12018297156173\n",
            "20.0\n",
            "25.0\n",
            "38.87412879206527\n"
          ]
        }
      ],
      "source": [
        "print(wine_reviews.price.mean())        # Calcula la media (promedio) de la columna price.\n",
        "print(wine_reviews.price.mode()[0])     # Encuentra la moda, es decir, el precio que más se repite en la columna price.\n",
        "print(wine_reviews.price.median())      # Calcula la mediana, que es el valor central cuando los precios están ordenados de menor a mayor.\n",
        "print(wine_reviews.price.std())         # Calcula la desviación estándar, que mide cuánto varían los precios respecto a la media."
      ]
    },
    {
      "cell_type": "markdown",
      "source": [
        "📌 Interpreta la media como el **precio promedio** de los vinos.\n",
        "\n",
        "📌 Interpreta la moda como el **precio más común** de los vinos.\n",
        "\n",
        "📌 Interpreta la mediana como el **precio típico** de los vinos, menos sensible a valores extremos.\n",
        "\n",
        "📌 Interpreta la desviación estándar como la dispersión de los precios(Variabilidad en los precios):\n",
        "\n",
        "    Baja desviación estándar → los precios están cerca del promedio.\n",
        "    Alta desviación estándar → hay mucha variabilidad en los precios."
      ],
      "metadata": {
        "id": "ftBohZ_8kIwc"
      }
    },
    {
      "cell_type": "markdown",
      "metadata": {
        "id": "wRmjt9Rmqu7Q"
      },
      "source": [
        "2. Imputar los valores faltantes en la columna `price` usando su valor medio."
      ]
    },
    {
      "cell_type": "code",
      "execution_count": 53,
      "metadata": {
        "id": "tzJkD578qu7Q"
      },
      "outputs": [],
      "source": [
        "# Reemplazar los valores NaN (faltantes) en todo el DataFrame con el promedio de la columna price.\n",
        "\n",
        "wine_reviews_copia = wine_reviews.copy()\n",
        "wine_reviews_copia.fillna(wine_reviews.price.mean(), inplace = True)"
      ]
    },
    {
      "cell_type": "markdown",
      "metadata": {
        "id": "ULBtQ2wgqu7W"
      },
      "source": [
        "3. ¿Cambió el valor medio de la columna?¿Y su desviación estándar?¿Y los otros estadísticos que calculamos?¿Por qué?"
      ]
    },
    {
      "cell_type": "code",
      "execution_count": 54,
      "metadata": {
        "id": "J40Dz7C6qu7W",
        "outputId": "3021fbe6-e1a3-4708-c341-e83e1df1d359",
        "colab": {
          "base_uri": "https://localhost:8080/"
        }
      },
      "outputs": [
        {
          "output_type": "stream",
          "name": "stdout",
          "text": [
            "35.12018297156173\n",
            "35.12018297156173\n",
            "28.0\n",
            "37.47720670823451\n"
          ]
        }
      ],
      "source": [
        "print(wine_reviews_copia.price.mean())\n",
        "print(wine_reviews_copia.price.mode()[0])\n",
        "print(wine_reviews_copia.price.median())\n",
        "print(wine_reviews_copia.price.std())"
      ]
    },
    {
      "cell_type": "markdown",
      "metadata": {
        "id": "pcaf2pTuqu7W"
      },
      "source": [
        "4. Trabajar con un dataset sin visualizar es muy aburrido y, diríamos, casi frustrante. La próxima clase ya nos meteremos de lleno en visualización. Mientras tanto, intenten hacer un histograma de los puntajes asignados y, luego, de los precios."
      ]
    },
    {
      "cell_type": "code",
      "source": [
        "# visualizar la distribución de los puntajes de los vinos (points).\n",
        "\n",
        "plt.figure(figsize=(8, 5))  # Ajusta el tamaño del gráfico\n",
        "plt.hist(wine_reviews_copia['points'], bins=20, color='skyblue', edgecolor='black', alpha=0.7)\n",
        "plt.xlabel('Puntaje', fontsize=12)\n",
        "plt.ylabel('Frecuencia', fontsize=12)\n",
        "plt.title('Distribución de Puntajes de los Vinos', fontsize=14)\n",
        "plt.grid(axis='y', linestyle='--', alpha=0.7)  # Solo la cuadrícula horizontal\n",
        "plt.show()\n"
      ],
      "metadata": {
        "colab": {
          "base_uri": "https://localhost:8080/",
          "height": 493
        },
        "id": "hZ75Q8IjmGyx",
        "outputId": "ecabc2c2-4e17-4408-fffe-d02438694ef2"
      },
      "execution_count": 58,
      "outputs": [
        {
          "output_type": "display_data",
          "data": {
            "text/plain": [
              "<Figure size 800x500 with 1 Axes>"
            ],
            "image/png": "[encoded data removed]"
          },
          "metadata": {}
        }
      ]
    },
    {
      "cell_type": "code",
      "source": [
        "plt.figure(figsize=(8, 5))  # Ajusta el tamaño del gráfico\n",
        "plt.hist(wine_reviews_copia['price'], bins=10, color='skyblue', edgecolor='black', alpha=0.7, log=True)\n",
        "plt.xlabel('Precio', fontsize=12)\n",
        "plt.ylabel('Frecuencia', fontsize=12)\n",
        "plt.title('Distribución de Precios de los Vinos', fontsize=14)\n",
        "plt.grid(axis='y', linestyle='--', alpha=0.7)  # Solo la cuadrícula horizontal\n",
        "plt.show()\n"
      ],
      "metadata": {
        "colab": {
          "base_uri": "https://localhost:8080/",
          "height": 492
        },
        "id": "VPvpuNvBoZT5",
        "outputId": "8bda691c-7aa4-4a91-c4ca-908d2b536c4d"
      },
      "execution_count": 63,
      "outputs": [
        {
          "output_type": "display_data",
          "data": {
            "text/plain": [
              "<Figure size 800x500 with 1 Axes>"
            ],
            "image/png": "[encoded data removed]"
          },
          "metadata": {}
        }
      ]
    },
    {
      "cell_type": "markdown",
      "metadata": {
        "id": "XaIXpR65qu7X"
      },
      "source": [
        "Respecto al segundo gráfico, ¿les gusta cómo queda?¿Qué es una escala logarítmica?"
      ]
    }
  ],
  "metadata": {
    "kernelspec": {
      "display_name": "Python 3 (ipykernel)",
      "language": "python",
      "name": "python3"
    },
    "language_info": {
      "codemirror_mode": {
        "name": "ipython",
        "version": 3
      },
      "file_extension": ".py",
      "mimetype": "text/x-python",
      "name": "python",
      "nbconvert_exporter": "python",
      "pygments_lexer": "ipython3",
      "version": "3.11.7"
    },
    "colab": {
      "provenance": [],
      "toc_visible": true
    }
  },
  "nbformat": 4,
  "nbformat_minor": 0
}